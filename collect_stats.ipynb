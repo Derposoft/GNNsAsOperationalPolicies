{
 "cells": [
  {
   "cell_type": "code",
   "execution_count": 2,
   "metadata": {},
   "outputs": [],
   "source": [
    "import os\n",
    "import numpy as np\n",
    "import pandas as pd\n",
    "from scipy.stats import ttest_ind, mannwhitneyu\n",
    "\n",
    "osl = os.listdir\n",
    "ospj = os.path.join"
   ]
  },
  {
   "attachments": {},
   "cell_type": "markdown",
   "metadata": {},
   "source": [
    "### get relevant runs data given filters of interest"
   ]
  },
  {
   "cell_type": "code",
   "execution_count": 3,
   "metadata": {},
   "outputs": [],
   "source": [
    "import re\n",
    "\n",
    "def natural_sort(l):\n",
    "    convert = lambda text: int(text) if text.isdigit() else text.lower()\n",
    "    alphanum_key = lambda key: [convert(c) for c in re.split('([0-9]+)', key)]\n",
    "    return sorted(l, key=alphanum_key)"
   ]
  },
  {
   "cell_type": "code",
   "execution_count": 4,
   "metadata": {},
   "outputs": [
    {
     "name": "stdout",
     "output_type": "stream",
     "text": [
      "['fcscout_210h-10hp-400bs-1em4lr-eval_NOOPT_', 'gcnscout_210h-10hp-400bs-1em4lr-eval_NOOPT_global', 'gatscout_210h-10hp-400bs-1em4lr-eval_NOOPT_global', 'gtscout_210h-10hp-400bs-1em4lr-eval_NOOPT_global']\n"
     ]
    }
   ],
   "source": [
    "def augment_expstring(base_str, hg=False, hgr=False):\n",
    "    noopt_str = \"NOOPT\"\n",
    "    opt_str = \"OPT-\"\n",
    "    hg_str = \"HG\"\n",
    "    hgr_str = \"HGR\"\n",
    "    if not hg and not hgr:\n",
    "        return base_str + noopt_str\n",
    "    if hg and not hgr:\n",
    "        return base_str + opt_str + hg_str\n",
    "    if hgr and not hg:\n",
    "        return base_str + opt_str + hgr_str\n",
    "    if hg and hgr:\n",
    "        return base_str + opt_str + hg_str + \"-\" + hgr_str\n",
    "    raise Exception(\"\")\n",
    "\n",
    "def baseline_exp(exp_qualifier = \"210h_10hp\", hg=False, hgr=False):\n",
    "    base_fcscout_str = f\"fcscout_{exp_qualifier}_\"\n",
    "    return augment_expstring(base_fcscout_str, hg=hg, hgr=hgr) + \"_\"\n",
    "\n",
    "def gcn_exp(exp_qualifier = \"210h_10hp\", hg=False, hgr=False, is_global=False):\n",
    "    base = f\"gcnscout_{exp_qualifier}_\"\n",
    "    return augment_expstring(base, hg=hg, hgr=hgr) + (\"_global\" if is_global else \"_local\")\n",
    "\n",
    "def gat_exp(exp_qualifier = \"210h_10hp\", hg=False, hgr=False, is_global=False):\n",
    "    base = f\"gatscout_{exp_qualifier}_\"\n",
    "    return augment_expstring(base, hg=hg, hgr=hgr) + (\"_global\" if is_global else \"_local\")\n",
    "\n",
    "def gt_exp(exp_qualifier = \"210h_10hp\", hg=False, hgr=False, is_global=False):\n",
    "    base = f\"gtscout_{exp_qualifier}_\"\n",
    "    return augment_expstring(base, hg=hg, hgr=hgr) + (\"_global\" if is_global else \"_local\")\n",
    "\n",
    "def get_exps(exp_qualifier=\"210h_10hp\", baseline_exp_string=\"210h_10hp\", hg=False, hgr=False, is_global=False):\n",
    "    return [\n",
    "        baseline_exp(exp_qualifier=baseline_exp_string, hg=hg, hgr=hgr),\n",
    "        gcn_exp(exp_qualifier=exp_qualifier, hg=hg, hgr=hgr, is_global=is_global),\n",
    "        gat_exp(exp_qualifier=exp_qualifier, hg=hg, hgr=hgr, is_global=is_global),\n",
    "        gt_exp(exp_qualifier=exp_qualifier, hg=hg, hgr=hgr, is_global=is_global),\n",
    "    ]\n",
    "\n",
    "\n",
    "hg=False\n",
    "hgr=False\n",
    "is_global=True\n",
    "runs_filters = get_exps(\n",
    "    exp_qualifier=\"210h-10hp-400bs-1em4lr-eval\",\n",
    "    baseline_exp_string=\"210h-10hp-400bs-1em4lr-eval\",\n",
    "    is_global=is_global,\n",
    "    hg=hg,\n",
    "    hgr=hgr,\n",
    ")\n",
    "# runs_filters = [\n",
    "#     baseline_exp(\"210h-10hp-400bs-1em4lr-eval\", hg=hg, hgr=hgr),\n",
    "#     gcn_exp(\"210h-10hp-400bs-1em4lr-eval\", hg=hg, hgr=hgr, is_global=is_global),\n",
    "# ]\n",
    "print(runs_filters)\n",
    "\n",
    "maindir = \"/home/vchad/ray_results/\"\n",
    "dir_baselines = \"/home/vchad/results_aaai/final/fcscout_210h-10hp-400bs-1em4lr/\"\n",
    "dir_gcn_global = \"/home/vchad/results_aaai/final/gcnscout_210h-10hp-400bs-1em4lr_GLOBAL/\"\n",
    "dir_gat_global = \"/home/vchad/results_aaai/final/gatscout_210h-10hp-400bs-1em4lr_GLOBAL/\"\n",
    "dir_gt_global = \"/home/vchad/results_aaai/final/gtscout_210h-10hp-400bs-1em4lr_GLOBAL/\"\n",
    "dir_gcn_local = \"/home/vchad/results_aaai/final/gcnscout_210h-10hp-400bs-1em4lr_LOCAL/\"\n",
    "dir_gat_local = \"/home/vchad/results_aaai/final/gatscout_210h-10hp-400bs-1em4lr_LOCAL/\"\n",
    "dir_gt_local = \"/home/vchad/results_aaai/final/gtscout_210h-10hp-400bs-1em4lr_LOCAL/\"\n",
    "#runs_dirs = [dir_baselines, dir_gcn_global, dir_gat_global, dir_gt_global, dir_gcn_local, dir_gat_local, dir_gt_local]\n",
    "runs_dirs = [maindir]\n",
    "runs = sum(([ospj(runs_dir, x) for x in osl(runs_dir)] for runs_dir in runs_dirs), [])\n",
    "tot_steps_len = 2300#75#150#75#200\n",
    "runs = natural_sort(runs)"
   ]
  },
  {
   "cell_type": "code",
   "execution_count": 5,
   "metadata": {},
   "outputs": [],
   "source": [
    "all_filters_runs = [\n",
    "    [run for run in runs if runs_filter in run]\n",
    "    for runs_filter in runs_filters\n",
    "]"
   ]
  },
  {
   "cell_type": "code",
   "execution_count": 7,
   "metadata": {},
   "outputs": [
    {
     "name": "stdout",
     "output_type": "stream",
     "text": [
      "[['/home/vchad/ray_results/fcscout_210h-10hp-400bs-1em4lr-eval_NOOPT_SEED0_g13ve0g9', '/home/vchad/ray_results/fcscout_210h-10hp-400bs-1em4lr-eval_NOOPT_SEED1_5bzlyb1x', '/home/vchad/ray_results/fcscout_210h-10hp-400bs-1em4lr-eval_NOOPT_SEED2_ycpnd43r', '/home/vchad/ray_results/fcscout_210h-10hp-400bs-1em4lr-eval_NOOPT_SEED3_5alnt88y', '/home/vchad/ray_results/fcscout_210h-10hp-400bs-1em4lr-eval_NOOPT_SEED4_14dd6bc8', '/home/vchad/ray_results/fcscout_210h-10hp-400bs-1em4lr-eval_NOOPT_SEED5__3zqjrwu', '/home/vchad/ray_results/fcscout_210h-10hp-400bs-1em4lr-eval_NOOPT_SEED6_zr54fm0q', '/home/vchad/ray_results/fcscout_210h-10hp-400bs-1em4lr-eval_NOOPT_SEED7_xx5ryash', '/home/vchad/ray_results/fcscout_210h-10hp-400bs-1em4lr-eval_NOOPT_SEED8_2_m3ao_4', '/home/vchad/ray_results/fcscout_210h-10hp-400bs-1em4lr-eval_NOOPT_SEED9_9d4j1n_w'], ['/home/vchad/ray_results/gcnscout_210h-10hp-400bs-1em4lr-eval_NOOPT_global_SEED0_b5x9jyti', '/home/vchad/ray_results/gcnscout_210h-10hp-400bs-1em4lr-eval_NOOPT_global_SEED1_0hj312e9', '/home/vchad/ray_results/gcnscout_210h-10hp-400bs-1em4lr-eval_NOOPT_global_SEED2_yph85w_8', '/home/vchad/ray_results/gcnscout_210h-10hp-400bs-1em4lr-eval_NOOPT_global_SEED3_9c4c2p6v', '/home/vchad/ray_results/gcnscout_210h-10hp-400bs-1em4lr-eval_NOOPT_global_SEED4_jq_zmdx1', '/home/vchad/ray_results/gcnscout_210h-10hp-400bs-1em4lr-eval_NOOPT_global_SEED5_72yv50x2', '/home/vchad/ray_results/gcnscout_210h-10hp-400bs-1em4lr-eval_NOOPT_global_SEED6_6i4oyt91', '/home/vchad/ray_results/gcnscout_210h-10hp-400bs-1em4lr-eval_NOOPT_global_SEED7_g5vkrvqy', '/home/vchad/ray_results/gcnscout_210h-10hp-400bs-1em4lr-eval_NOOPT_global_SEED8_esvzjeya', '/home/vchad/ray_results/gcnscout_210h-10hp-400bs-1em4lr-eval_NOOPT_global_SEED9_9vxajia_'], ['/home/vchad/ray_results/gatscout_210h-10hp-400bs-1em4lr-eval_NOOPT_global_SEED0_ex2gjbdk', '/home/vchad/ray_results/gatscout_210h-10hp-400bs-1em4lr-eval_NOOPT_global_SEED1_7xoiimea', '/home/vchad/ray_results/gatscout_210h-10hp-400bs-1em4lr-eval_NOOPT_global_SEED2_nz_u2ype', '/home/vchad/ray_results/gatscout_210h-10hp-400bs-1em4lr-eval_NOOPT_global_SEED3_j2eop4no', '/home/vchad/ray_results/gatscout_210h-10hp-400bs-1em4lr-eval_NOOPT_global_SEED4_12tes6db', '/home/vchad/ray_results/gatscout_210h-10hp-400bs-1em4lr-eval_NOOPT_global_SEED5_ml9xju1x', '/home/vchad/ray_results/gatscout_210h-10hp-400bs-1em4lr-eval_NOOPT_global_SEED6_szjmrusy', '/home/vchad/ray_results/gatscout_210h-10hp-400bs-1em4lr-eval_NOOPT_global_SEED7_78magf0u', '/home/vchad/ray_results/gatscout_210h-10hp-400bs-1em4lr-eval_NOOPT_global_SEED8_qrm_4x4s', '/home/vchad/ray_results/gatscout_210h-10hp-400bs-1em4lr-eval_NOOPT_global_SEED9_tp93zajw'], ['/home/vchad/ray_results/gtscout_210h-10hp-400bs-1em4lr-eval_NOOPT_global_SEED0_c4sxdosg', '/home/vchad/ray_results/gtscout_210h-10hp-400bs-1em4lr-eval_NOOPT_global_SEED1_v9jw8753', '/home/vchad/ray_results/gtscout_210h-10hp-400bs-1em4lr-eval_NOOPT_global_SEED2__rbj8s_h', '/home/vchad/ray_results/gtscout_210h-10hp-400bs-1em4lr-eval_NOOPT_global_SEED3_t2dd5gtz', '/home/vchad/ray_results/gtscout_210h-10hp-400bs-1em4lr-eval_NOOPT_global_SEED4_r4ut_pnd', '/home/vchad/ray_results/gtscout_210h-10hp-400bs-1em4lr-eval_NOOPT_global_SEED5_eqox0k4q', '/home/vchad/ray_results/gtscout_210h-10hp-400bs-1em4lr-eval_NOOPT_global_SEED6_jt4jv_ln', '/home/vchad/ray_results/gtscout_210h-10hp-400bs-1em4lr-eval_NOOPT_global_SEED7_aj4z4zds', '/home/vchad/ray_results/gtscout_210h-10hp-400bs-1em4lr-eval_NOOPT_global_SEED8_c51xc6gd', '/home/vchad/ray_results/gtscout_210h-10hp-400bs-1em4lr-eval_NOOPT_global_SEED9_q11p0m74']]\n"
     ]
    }
   ],
   "source": [
    "print(all_filters_runs)"
   ]
  },
  {
   "cell_type": "markdown",
   "metadata": {},
   "source": [
    "# Calculate p-values on a per-starting location basis"
   ]
  },
  {
   "cell_type": "code",
   "execution_count": 8,
   "metadata": {},
   "outputs": [
    {
     "name": "stdout",
     "output_type": "stream",
     "text": [
      "{'fcscout_210h-10hp-400bs-1em4lr-eval_NOOPT_': {0: {'str': '312.8999938964844+/-341.5931396484375 -- p=0.5'},\n",
      "                                                1: {'str': '361.29998779296875+/-242.04931640625 -- p=0.5'},\n",
      "                                                2: {'str': '345.3999938964844+/-302.3631591796875 -- p=0.5'},\n",
      "                                                3: {'str': '365.5+/-247.70741271972656 -- p=0.5'},\n",
      "                                                4: {'str': '342.6000061035156+/-306.9483337402344 -- p=0.5'},\n",
      "                                                5: {'str': '312.79998779296875+/-341.4252624511719 -- p=0.5'},\n",
      "                                                6: {'str': '286.20001220703125+/-331.5061950683594 -- p=0.5'},\n",
      "                                                7: {'str': '312.20001220703125+/-342.3741455078125 -- p=0.5'},\n",
      "                                                8: {'str': '262.20001220703125+/-361.77435302734375 -- p=0.5'},\n",
      "                                                9: {'str': '334.79998779296875+/-296.29571533203125 -- p=0.5'},\n",
      "                                                10: {'str': '395.1000061035156+/-154.0386199951172 -- p=0.5'},\n",
      "                                                11: {'str': '342.6000061035156+/-305.42926025390625 -- p=0.5'},\n",
      "                                                12: {'str': '332.8999938964844+/-303.1885986328125 -- p=0.5'},\n",
      "                                                13: {'str': '394.0+/-150.32736206054688 -- p=0.5'},\n",
      "                                                14: {'str': '266.79998779296875+/-359.6939392089844 -- p=0.5'},\n",
      "                                                15: {'str': '382.0+/-179.34776306152344 -- p=0.5'},\n",
      "                                                16: {'str': '243.39999389648438+/-384.3078918457031 -- p=0.5'},\n",
      "                                                17: {'str': '315.1000061035156+/-332.0822448730469 -- p=0.5'}},\n",
      " 'gatscout_210h-10hp-400bs-1em4lr-eval_NOOPT_global': {0: {'str': '375.29998779296875+/-230.64837646484375 -- p=0.22131192566094504'},\n",
      "                                                       1: {'str': '373.79998779296875+/-239.11834716796875 -- p=0.42528890396145'},\n",
      "                                                       2: {'str': '342.5+/-304.1142272949219 -- p=0.5138371961722921'},\n",
      "                                                       3: {'str': '347.29998779296875+/-294.9279479980469 -- p=0.5956551541256017'},\n",
      "                                                       4: {'str': '336.8999938964844+/-302.8641662597656 -- p=0.5270314734128592'},\n",
      "                                                       5: {'str': '348.0+/-300.6247253417969 -- p=0.34606096082005344'},\n",
      "                                                       6: {'str': '374.3999938964844+/-237.68865966796875 -- p=0.13847709176711143'},\n",
      "                                                       7: {'str': '366.5+/-244.57911682128906 -- p=0.2557122782463508'},\n",
      "                                                       8: {'str': '342.79998779296875+/-301.5372619628906 -- p=0.19272462292485382'},\n",
      "                                                       9: {'str': '369.0+/-237.25161743164062 -- p=0.3225898656356794'},\n",
      "                                                       10: {'str': '343.6000061035156+/-298.7226257324219 -- p=0.780386961767475'},\n",
      "                                                       11: {'str': '380.20001220703125+/-238.784912109375 -- p=0.3101891663797126'},\n",
      "                                                       12: {'str': '313.5+/-342.7449645996094 -- p=0.5860142155533151'},\n",
      "                                                       13: {'str': '384.29998779296875+/-233.62481689453125 -- p=0.5708762310433393'},\n",
      "                                                       14: {'str': '347.20001220703125+/-296.8127746582031 -- p=0.19103182099793392'},\n",
      "                                                       15: {'str': '358.29998779296875+/-250.9894256591797 -- p=0.652698714677107'},\n",
      "                                                       16: {'str': '286.6000061035156+/-376.81170654296875 -- p=0.34061428419605644'},\n",
      "                                                       17: {'str': '339.6000061035156+/-294.5965881347656 -- p=0.388682099163203'}},\n",
      " 'gcnscout_210h-10hp-400bs-1em4lr-eval_NOOPT_global': {0: {'str': '231.0+/-355.7149658203125 -- p=0.8004797459127401'},\n",
      "                                                       1: {'str': '325.0+/-276.1412048339844 -- p=0.6932744412419685'},\n",
      "                                                       2: {'str': '313.79998779296875+/-286.26654052734375 -- p=0.651173902004512'},\n",
      "                                                       3: {'str': '275.70001220703125+/-357.2693786621094 -- p=0.8507481970683093'},\n",
      "                                                       4: {'str': '309.6000061035156+/-285.5592346191406 -- p=0.6564730581788116'},\n",
      "                                                       5: {'str': '259.20001220703125+/-351.8752136230469 -- p=0.7116995091374383'},\n",
      "                                                       6: {'str': '332.29998779296875+/-274.8359680175781 -- p=0.2923446192856379'},\n",
      "                                                       7: {'str': '276.0+/-351.903564453125 -- p=0.6470939386989234'},\n",
      "                                                       8: {'str': '254.6999969482422+/-330.2096252441406 -- p=0.5312998553026391'},\n",
      "                                                       9: {'str': '232.8000030517578+/-359.188720703125 -- p=0.8650257704393276'},\n",
      "                                                       10: {'str': '343.29998779296875+/-230.39404296875 -- p=0.8271745982045837'},\n",
      "                                                       11: {'str': '312.1000061035156+/-282.88201904296875 -- p=0.6461971993256088'},\n",
      "                                                       12: {'str': '280.3999938964844+/-358.6973571777344 -- p=0.7158370869308667'},\n",
      "                                                       13: {'str': '308.70001220703125+/-278.2834167480469 -- p=0.9086606426253026'},\n",
      "                                                       14: {'str': '277.3999938964844+/-354.04180908203125 -- p=0.45710519869289884'},\n",
      "                                                       15: {'str': '255.1999969482422+/-332.9424743652344 -- p=0.9483402284104427'},\n",
      "                                                       16: {'str': '239.10000610351562+/-368.495849609375 -- p=0.5165236651308134'},\n",
      "                                                       17: {'str': '232.10000610351562+/-352.9379577636719 -- p=0.8076238092388819'}},\n",
      " 'gtscout_210h-10hp-400bs-1em4lr-eval_NOOPT_global': {0: {'str': '264.20001220703125+/-243.4288787841797 -- p=0.7228997674383684'},\n",
      "                                                      1: {'str': '283.6000061035156+/-207.08453369140625 -- p=0.8894823027943156'},\n",
      "                                                      2: {'str': '316.20001220703125+/-144.4039764404297 -- p=0.6710759512141627'},\n",
      "                                                      3: {'str': '257.5+/-247.54470825195312 -- p=0.9369722207040101'},\n",
      "                                                      4: {'str': '310.6000061035156+/-140.38446044921875 -- p=0.684818243597795'},\n",
      "                                                      5: {'str': '229.0+/-278.9179382324219 -- p=0.8318043018177808'},\n",
      "                                                      6: {'str': '238.8000030517578+/-270.00146484375 -- p=0.7142172644165341'},\n",
      "                                                      7: {'str': '195.60000610351562+/-262.3752746582031 -- p=0.9110813501586498'},\n",
      "                                                      8: {'str': '240.3000030517578+/-271.1806945800781 -- p=0.5979293190141228'},\n",
      "                                                      9: {'str': '255.8000030517578+/-241.90362548828125 -- p=0.8512983119374473'},\n",
      "                                                      10: {'str': '311.3999938964844+/-142.16159057617188 -- p=0.9737636987062432'},\n",
      "                                                      11: {'str': '311.70001220703125+/-141.24038696289062 -- p=0.6794948964310523'},\n",
      "                                                      12: {'str': '257.1000061035156+/-249.2384033203125 -- p=0.8355636230142418'},\n",
      "                                                      13: {'str': '301.5+/-153.31040954589844 -- p=0.9810615779701712'},\n",
      "                                                      14: {'str': '211.5+/-301.10565185546875 -- p=0.7261904352047981'},\n",
      "                                                      15: {'str': '263.0+/-247.35121154785156 -- p=0.9703371567397876'},\n",
      "                                                      16: {'str': '179.3000030517578+/-301.40985107421875 -- p=0.7480179089390225'},\n",
      "                                                      17: {'str': '214.8000030517578+/-293.2704772949219 -- p=0.8727511866812792'}}}\n"
     ]
    }
   ],
   "source": [
    "# Check out runs on a per-start-point basis\n",
    "import json\n",
    "def get_best_eval_rewards(run):\n",
    "    # Fix json file because for some reason it's multiple documents in one\n",
    "    run_json_data_file = \"result.json\"\n",
    "    with open(os.path.join(run, run_json_data_file), \"r\") as file:\n",
    "        lines = file.readlines()\n",
    "    results = [json.loads(result) for result in lines]\n",
    "\n",
    "    # Get the highest eval rewards and return\n",
    "    results_ordered_by_eval = sorted([(x[\"evaluation\"][\"episode_reward_mean\"], x) for x in results], key=lambda x: x[0], reverse=True)\n",
    "    best_eval, best_result_by_eval = results_ordered_by_eval[0]\n",
    "    best_result_by_eval_rewards = best_result_by_eval[\"evaluation\"][\"hist_stats\"][\"episode_reward\"]\n",
    "    return best_result_by_eval_rewards\n",
    "\n",
    "# all_runs_data shape: (n_experiments_to_compare, n_runs_per_experiment, n_evals_per_run/starting_points)\n",
    "all_runs_data = []\n",
    "for filter_runs in all_filters_runs:\n",
    "    curr_run_data = []\n",
    "    for run in filter_runs:\n",
    "        run_best_eval_data = get_best_eval_rewards(run)\n",
    "        curr_run_data.append(run_best_eval_data)\n",
    "    all_runs_data.append(curr_run_data)\n",
    "\n",
    "# get stats for mapped values for a given experiment\n",
    "def get_stats_by_start(all_runs_by_start):\n",
    "    stats = {}\n",
    "    baselines = all_runs_by_start[0]\n",
    "    for exp_name, experiment in zip(runs_filters, all_runs_by_start):\n",
    "        stats[exp_name] = {}\n",
    "        for starting_pt_idx in range(len(experiment)):\n",
    "            ci95z = 1.96\n",
    "            ci90z = 1.645\n",
    "            alternative = \"less\" # \"two-sided\" #\n",
    "            baselines_idx = baselines[starting_pt_idx]\n",
    "            experiment_idx = experiment[starting_pt_idx]\n",
    "            ttest_results = ttest_ind(baselines_idx, experiment_idx, alternative=alternative, equal_var=False)\n",
    "            mu, sigma = torch.mean(experiment_idx), torch.std(experiment_idx)\n",
    "            stats[exp_name][starting_pt_idx] = {\n",
    "                \"str\": f\"{mu}+/-{ci90z*sigma} -- p={ttest_results.pvalue}\",\n",
    "            }\n",
    "    return stats\n",
    "\n",
    "import torch\n",
    "import pprint\n",
    "all_runs_by_starting_point = torch.Tensor(all_runs_data).permute(0, 2, 1) # (n_experiments, starting_point, n_runs)\n",
    "results_by_starting_pt = get_stats_by_start(all_runs_by_starting_point)\n",
    "printer = pprint.PrettyPrinter(width=160)\n",
    "printer.pprint(results_by_starting_pt)"
   ]
  },
  {
   "cell_type": "markdown",
   "metadata": {},
   "source": [
    "# Calculate p-values on a wholistic basis (v1)"
   ]
  },
  {
   "cell_type": "code",
   "execution_count": 9,
   "metadata": {},
   "outputs": [
    {
     "name": "stdout",
     "output_type": "stream",
     "text": [
      "{'fcscout_210h-10hp-400bs-1em4lr-eval_NOOPT_': {'latex': '328.21112060546875 $\\\\pm$ 351.88555908203125 & 0.500',\n",
      "                                                'str': '328.21112060546875+/-295.33251953125 -- p=0.5'},\n",
      " 'gatscout_210h-10hp-400bs-1em4lr-eval_NOOPT_global': {'latex': '351.6555480957031 $\\\\pm$ 323.3451843261719 & 0.099',\n",
      "                                                       'str': '351.6555480957031+/-271.3789978027344 -- p=0.09893562995921536'},\n",
      " 'gcnscout_210h-10hp-400bs-1em4lr-eval_NOOPT_global': {'latex': '281.022216796875 $\\\\pm$ 374.0275573730469 & 0.992',\n",
      "                                                       'str': '281.022216796875+/-313.9159851074219 -- p=0.991910853395269'},\n",
      " 'gtscout_210h-10hp-400bs-1em4lr-eval_NOOPT_global': {'latex': '257.8833312988281 $\\\\pm$ 280.2969970703125 & 1.000',\n",
      "                                                      'str': '257.8833312988281+/-235.24925231933594 -- p=0.9999752748270376'}}\n"
     ]
    }
   ],
   "source": [
    "# get stats for mapped values for a given experiment\n",
    "def get_stats_all(all_runs_by_start):\n",
    "    all_runs_data = all_runs_by_start.reshape(all_runs_by_start.shape[0], -1)\n",
    "    stats = {}\n",
    "    baselines = all_runs_data[0]\n",
    "    for exp_name, vals in zip(runs_filters, all_runs_data):\n",
    "        mu = torch.mean(vals)\n",
    "        sigma = torch.std(vals)\n",
    "        ci95z = 1.96\n",
    "        ci90z = 1.645\n",
    "        alternative = \"less\" # \"two-sided\"\n",
    "        ttest_results = ttest_ind(baselines.numpy(), vals.numpy(), alternative=alternative, equal_var=False)\n",
    "        stats[exp_name] = {\n",
    "            \"str\": f\"{mu}+/-{ci90z*sigma} -- p={ttest_results.pvalue}\",\n",
    "            \"latex\": f\"{mu} $\\pm$ {ci95z*sigma} & {ttest_results.pvalue:1.3f}\"\n",
    "        }\n",
    "    return stats\n",
    "results_by_starting_pt = get_stats_all(all_runs_by_starting_point)\n",
    "printer = pprint.PrettyPrinter(width=160)\n",
    "printer.pprint(results_by_starting_pt)"
   ]
  },
  {
   "cell_type": "markdown",
   "metadata": {},
   "source": [
    "# Calculate p-values on a wholistic basis (v2)"
   ]
  },
  {
   "cell_type": "code",
   "execution_count": 10,
   "metadata": {},
   "outputs": [],
   "source": [
    "run_data_file = \"progress.csv\"\n",
    "#run_data_col = \"episode_reward_mean\"\n",
    "run_data_col = \"evaluation/episode_reward_mean\"\n",
    "# run_data_col = \"ray/tune/episode_reward_mean\"\n",
    "run_step_col = \"timesteps_total\"\n",
    "all_runs_data = []\n",
    "for filter_runs in all_filters_runs:\n",
    "    curr_run_data = []\n",
    "    for run in filter_runs:\n",
    "        #parse_exp_json(run) # TODO\n",
    "        datafile = pd.read_csv(ospj(run, run_data_file))\n",
    "        curr_run_data.append(datafile[run_data_col])\n",
    "    all_runs_data.append(curr_run_data)\n",
    "runs_steps = [\n",
    "    pd.read_csv(ospj(run, run_data_file))[run_step_col]\n",
    "    for run in runs\n",
    "]"
   ]
  },
  {
   "attachments": {},
   "cell_type": "markdown",
   "metadata": {},
   "source": [
    "### given data, run \"map\" on data to get values suitable for analysis"
   ]
  },
  {
   "cell_type": "code",
   "execution_count": 11,
   "metadata": {},
   "outputs": [],
   "source": [
    "# finds the first training step when reward exceeds a given value ge\n",
    "def first_ep_to_val(runs, steps, ge=30):\n",
    "    first_eps = []\n",
    "    for run, steps in zip(runs, steps):\n",
    "        found = False\n",
    "        for step, val in zip(steps, run):\n",
    "            if val >= ge:\n",
    "                first_eps.append(step)\n",
    "                found = True\n",
    "                break\n",
    "        if not found:\n",
    "            first_eps.append(-1)\n",
    "    return first_eps\n",
    "\n",
    "# finds max avg reward\n",
    "ZONE1_SPAWNS = [85, 87, 94, 95, 96, 102, 103, 111, 112]\n",
    "ZONE2_SPAWNS = [98, 99, 106, 106, 107, 108, 113, 114, 115]\n",
    "POSSIBLE_SPAWNS = ZONE1_SPAWNS + ZONE2_SPAWNS\n",
    "def max_avg_reward(runs, steps, N_EVAL_EPISODES = len(POSSIBLE_SPAWNS), n_top=-1):\n",
    "    max_vals = []\n",
    "    for run in runs:\n",
    "        if len(run) < tot_steps_len: continue\n",
    "        #max_vals += [max(run)]*N_EVAL_EPISODES\n",
    "        max_vals.append(max(run))\n",
    "    if n_top > 0:\n",
    "        max_vals = sorted(max_vals)[::-1][:n_top]\n",
    "    max_vals *= N_EVAL_EPISODES\n",
    "    return max_vals\n",
    "\n",
    "# returns last reward\n",
    "def last_ep_reward(runs, steps):\n",
    "    last_vals = []\n",
    "    for run in runs:\n",
    "        if len(run) < tot_steps_len: continue\n",
    "        last_vals.append(run.tolist()[-1])\n",
    "    return last_vals"
   ]
  },
  {
   "cell_type": "code",
   "execution_count": 12,
   "metadata": {},
   "outputs": [],
   "source": [
    "first_ep_to_30 = [\n",
    "    first_ep_to_val(filter_runs_data, runs_steps)\n",
    "    for filter_runs_data in all_runs_data\n",
    "]\n",
    "max_reward = [\n",
    "    max_avg_reward(filter_runs_data, runs_steps, n_top=5)\n",
    "    for filter_runs_data in all_runs_data\n",
    "]\n",
    "last_reward = [\n",
    "    last_ep_reward(filter_runs_data, runs_steps)\n",
    "    for filter_runs_data in all_runs_data\n",
    "]"
   ]
  },
  {
   "attachments": {},
   "cell_type": "markdown",
   "metadata": {},
   "source": [
    "### given \"map\" values, run \"reduce\" to aggregate values and show significance"
   ]
  },
  {
   "cell_type": "code",
   "execution_count": 13,
   "metadata": {},
   "outputs": [],
   "source": [
    "# pretty print a dictionary\n",
    "def pretty_print(d, tabs=0, tabsize=4):\n",
    "    for k in d:\n",
    "        v = d[k]\n",
    "        nspaces = \" \" * tabsize * tabs\n",
    "        if type(v) == dict:\n",
    "            print(f\"{nspaces}{k}:\")\n",
    "            pretty_print(v, tabs+1, tabsize)\n",
    "        else:\n",
    "            print(f\"{nspaces}{k}: {v}\")\n",
    "\n",
    "# get stats for mapped values for a given experiment\n",
    "def get_stats(all_runs_vals, firstn=-1):\n",
    "    stats = {}\n",
    "    #baselines = all_runs_vals[0]\n",
    "    baselines = all_runs_vals[0]\n",
    "    for filter, vals in zip(runs_filters, all_runs_vals):\n",
    "        if firstn > 0: vals = vals[:firstn]\n",
    "        mu = np.mean(vals)\n",
    "        sigma = np.std(vals)\n",
    "        ci95z = 1.96\n",
    "        ci90z = 1.645\n",
    "        alternative = \"less\" # \"two-sided\" #\n",
    "        ttest_results = ttest_ind(baselines, vals, alternative=alternative, equal_var=False)\n",
    "        stats[filter] = {\n",
    "            \"str\": f\"{mu}+/-{ci90z*sigma} -- p={ttest_results.pvalue}\",\n",
    "            \"latex_per_agent\": f\"{mu/2:.3f} $\\pm$ {ci95z*sigma/2:0.3f} & {ttest_results.pvalue:1.3f}\",\n",
    "            #\"median\": np.median(vals),\n",
    "            #\"std\": sigma,\n",
    "            #\"ci\": [mu-ci95z*sigma, mu+ci95z*sigma],\n",
    "            \"n\": len(vals),\n",
    "            \"vals\": vals[::len(POSSIBLE_SPAWNS)],\n",
    "        }\n",
    "    return stats"
   ]
  },
  {
   "cell_type": "code",
   "execution_count": 14,
   "metadata": {},
   "outputs": [],
   "source": [
    "firstn = -1\n",
    "#first_ep_to_30_stats = get_stats(first_ep_to_30, firstn=firstn)\n",
    "max_reward_stats = get_stats(max_reward, firstn=firstn)\n",
    "last_reward_stats = get_stats(last_reward, firstn=firstn)"
   ]
  },
  {
   "cell_type": "code",
   "execution_count": 15,
   "metadata": {},
   "outputs": [
    {
     "name": "stdout",
     "output_type": "stream",
     "text": [
      "max reward stats:\n",
      "fcscout_210h-10hp-400bs-1em4lr-eval_NOOPT_:\n",
      "    str: 464.4555555555556+/-2.4175081893716537 -- p=0.5\n",
      "    latex_per_agent: 232.228 $\\pm$ 1.440 & 0.500\n",
      "    n: 90\n",
      "    vals: [466.5, 463.55555555555554, 465.72222222222223, 462.44444444444446, 464.05555555555554]\n",
      "gcnscout_210h-10hp-400bs-1em4lr-eval_NOOPT_global:\n",
      "    str: 431.69999999999993+/-90.50762825800315 -- p=0.9999998896319878\n",
      "    latex_per_agent: 215.850 $\\pm$ 53.919 & 1.000\n",
      "    n: 90\n",
      "    vals: [465.72222222222223, 438.1666666666667, 465.5, 323.72222222222223, 465.3888888888889]\n",
      "gatscout_210h-10hp-400bs-1em4lr-eval_NOOPT_global:\n",
      "    str: 464.73333333333335+/-1.3936730646428708 -- p=0.06230363748421467\n",
      "    latex_per_agent: 232.367 $\\pm$ 0.830 & 0.062\n",
      "    n: 90\n",
      "    vals: [466.3333333333333, 464.22222222222223, 464.72222222222223, 463.8888888888889, 464.5]\n",
      "gtscout_210h-10hp-400bs-1em4lr-eval_NOOPT_global:\n",
      "    str: 337.93333333333334+/-154.27790747597876 -- p=1.0\n",
      "    latex_per_agent: 168.967 $\\pm$ 91.910 & 1.000\n",
      "    n: 90\n",
      "    vals: [464.94444444444446, 265.44444444444446, 439.5, 253.0, 266.77777777777777]\n",
      "\n",
      "last reward stats:\n",
      "fcscout_210h-10hp-400bs-1em4lr-eval_NOOPT_:\n",
      "    str: 254.23333333333335+/-219.3820488631113 -- p=0.5\n",
      "    latex_per_agent: 127.117 $\\pm$ 130.696 & 0.500\n",
      "    n: 10\n",
      "    vals: [67.88888888888889]\n",
      "gcnscout_210h-10hp-400bs-1em4lr-eval_NOOPT_global:\n",
      "    str: 219.8777777777778+/-245.84213726814815 -- p=0.6933995256858757\n",
      "    latex_per_agent: 109.939 $\\pm$ 146.459 & 0.693\n",
      "    n: 10\n",
      "    vals: [40.11111111111112]\n",
      "gatscout_210h-10hp-400bs-1em4lr-eval_NOOPT_global:\n",
      "    str: 268.3722222222222+/-204.0240275370503 -- p=0.4092391676503174\n",
      "    latex_per_agent: 134.186 $\\pm$ 121.546 & 0.409\n",
      "    n: 10\n",
      "    vals: [289.27777777777777]\n",
      "gtscout_210h-10hp-400bs-1em4lr-eval_NOOPT_global:\n",
      "    str: 162.98333333333332+/-139.48032608065404 -- p=0.9482990912700903\n",
      "    latex_per_agent: 81.492 $\\pm$ 83.095 & 0.948\n",
      "    n: 10\n",
      "    vals: [77.33333333333333]\n",
      "\n"
     ]
    }
   ],
   "source": [
    "def print_stat(stats, name=\"\"):\n",
    "    assert name != \"\"\n",
    "    print(name+\" stats:\")\n",
    "    pretty_print(stats)\n",
    "    print()\n",
    "\n",
    "print_stat(max_reward_stats, \"max reward\")\n",
    "#print_stat(first_ep_to_30_stats, \"first ep to 30\")\n",
    "print_stat(last_reward_stats, \"last reward\")\n"
   ]
  },
  {
   "cell_type": "code",
   "execution_count": null,
   "metadata": {},
   "outputs": [],
   "source": []
  }
 ],
 "metadata": {
  "kernelspec": {
   "display_name": "Python 3.9.13 ('ict')",
   "language": "python",
   "name": "python3"
  },
  "language_info": {
   "codemirror_mode": {
    "name": "ipython",
    "version": 3
   },
   "file_extension": ".py",
   "mimetype": "text/x-python",
   "name": "python",
   "nbconvert_exporter": "python",
   "pygments_lexer": "ipython3",
   "version": "3.9.13"
  },
  "orig_nbformat": 4,
  "vscode": {
   "interpreter": {
    "hash": "55c685f8cf5c890b69147c020cec2e2dc7dfd76edeb06885af029168509bee56"
   }
  }
 },
 "nbformat": 4,
 "nbformat_minor": 2
}
