{
 "cells": [
  {
   "cell_type": "code",
   "execution_count": 87,
   "metadata": {},
   "outputs": [],
   "source": [
    "import os\n",
    "import numpy as np\n",
    "import pandas as pd\n",
    "from scipy.stats import ttest_ind, mannwhitneyu\n",
    "\n",
    "osl = os.listdir\n",
    "ospj = os.path.join"
   ]
  },
  {
   "attachments": {},
   "cell_type": "markdown",
   "metadata": {},
   "source": [
    "### get relevant runs data given filters of interest"
   ]
  },
  {
   "cell_type": "code",
   "execution_count": 88,
   "metadata": {},
   "outputs": [],
   "source": [
    "import re\n",
    "\n",
    "def natural_sort(l):\n",
    "    convert = lambda text: int(text) if text.isdigit() else text.lower()\n",
    "    alphanum_key = lambda key: [convert(c) for c in re.split('([0-9]+)', key)]\n",
    "    return sorted(l, key=alphanum_key)"
   ]
  },
  {
   "cell_type": "code",
   "execution_count": 97,
   "metadata": {},
   "outputs": [
    {
     "name": "stdout",
     "output_type": "stream",
     "text": [
      "['fcscout_210h-10hp-400bs-1em4lr-eval_NOOPT_', 'gcnscout_210h-10hp-400bs-1em4lr-eval_NOOPT_global', 'gatscout_210h-10hp-400bs-1em4lr-eval_NOOPT_global', 'gtscout_210h-10hp-400bs-1em4lr-eval_NOOPT_global']\n"
     ]
    }
   ],
   "source": [
    "def augment_expstring(base_str, hg=False, hgr=False):\n",
    "    noopt_str = \"NOOPT\"\n",
    "    opt_str = \"OPT-\"\n",
    "    hg_str = \"HG\"\n",
    "    hgr_str = \"HGR\"\n",
    "    if not hg and not hgr:\n",
    "        return base_str + noopt_str\n",
    "    if hg and not hgr:\n",
    "        return base_str + opt_str + hg_str\n",
    "    if hgr and not hg:\n",
    "        return base_str + opt_str + hgr_str\n",
    "    if hg and hgr:\n",
    "        return base_str + opt_str + hg_str + \"-\" + hgr_str\n",
    "    raise Exception(\"\")\n",
    "\n",
    "def baseline_exp(exp_qualifier = \"210h_10hp\", hg=False, hgr=False):\n",
    "    base_fcscout_str = f\"fcscout_{exp_qualifier}_\"\n",
    "    return augment_expstring(base_fcscout_str, hg=hg, hgr=hgr) + \"_\"\n",
    "\n",
    "def gcn_exp(exp_qualifier = \"210h_10hp\", hg=False, hgr=False, is_global=False):\n",
    "    base = f\"gcnscout_{exp_qualifier}_\"\n",
    "    return augment_expstring(base, hg=hg, hgr=hgr) + (\"_global\" if is_global else \"_local\")\n",
    "\n",
    "def gat_exp(exp_qualifier = \"210h_10hp\", hg=False, hgr=False, is_global=False):\n",
    "    base = f\"gatscout_{exp_qualifier}_\"\n",
    "    return augment_expstring(base, hg=hg, hgr=hgr) + (\"_global\" if is_global else \"_local\")\n",
    "\n",
    "def gt_exp(exp_qualifier = \"210h_10hp\", hg=False, hgr=False, is_global=False):\n",
    "    base = f\"gtscout_{exp_qualifier}_\"\n",
    "    return augment_expstring(base, hg=hg, hgr=hgr) + (\"_global\" if is_global else \"_local\")\n",
    "\n",
    "def get_exps(exp_qualifier=\"210h_10hp\", baseline_exp_string=\"210h_10hp\", hg=False, hgr=False, is_global=False):\n",
    "    return [\n",
    "        baseline_exp(exp_qualifier=baseline_exp_string, hg=hg, hgr=hgr),\n",
    "        gcn_exp(exp_qualifier=exp_qualifier, hg=hg, hgr=hgr, is_global=is_global),\n",
    "        gat_exp(exp_qualifier=exp_qualifier, hg=hg, hgr=hgr, is_global=is_global),\n",
    "        gt_exp(exp_qualifier=exp_qualifier, hg=hg, hgr=hgr, is_global=is_global),\n",
    "    ]\n",
    "\n",
    "\n",
    "hg=False\n",
    "hgr=False\n",
    "runs_filters = get_exps(\n",
    "    exp_qualifier=\"210h-10hp-400bs-1em4lr-eval\",\n",
    "    baseline_exp_string=\"210h-10hp-400bs-1em4lr-eval\",\n",
    "    is_global=True,\n",
    "    hg=hg,\n",
    "    hgr=hgr,\n",
    ")\n",
    "runs_filters = [\n",
    "    baseline_exp(exp_qualifier=\"210h-10hp-400bs-1em4lr-eval\", hg=hg, hgr=hgr),\n",
    "    gcn_exp(exp_qualifier=\"210h-10hp-400bs-1em4lr-eval\", is_global=True, hg=hg, hgr=hgr),\n",
    "    gat_exp(exp_qualifier=\"210h-10hp-400bs-1em4lr-eval\", is_global=True, hg=hg, hgr=hgr),\n",
    "    gt_exp(exp_qualifier=\"210h-10hp-400bs-1em4lr-eval\", is_global=True, hg=hg, hgr=hgr),\n",
    "]\n",
    "print(runs_filters)\n",
    "\n",
    "maindir = \"/home/vchad/ray_results/\"\n",
    "scout_baselines = \"/home/vchad/results_aaai/scout_baselines_210h-10hp-400bs-1em4lr/\"\n",
    "scout_gcns = \"/home/vchad/results_aaai/scout_gcn_210h-10hp-400bs-1em4lr/\"\n",
    "runs_dirs = [maindir, scout_baselines, scout_gcns]\n",
    "runs = sum(([ospj(runs_dir, x) for x in osl(runs_dir)] for runs_dir in runs_dirs), [])\n",
    "tot_steps_len = 75#150#75#200\n",
    "runs = natural_sort(runs)"
   ]
  },
  {
   "cell_type": "code",
   "execution_count": 98,
   "metadata": {},
   "outputs": [],
   "source": [
    "all_filters_runs = [\n",
    "    [run for run in runs if runs_filter in run]\n",
    "    for runs_filter in runs_filters\n",
    "]"
   ]
  },
  {
   "cell_type": "code",
   "execution_count": 99,
   "metadata": {},
   "outputs": [
    {
     "name": "stdout",
     "output_type": "stream",
     "text": [
      "[['/home/vchad/results_aaai/scout_baselines_210h-10hp-400bs-1em4lr/fcscout_210h-10hp-400bs-1em4lr-eval_NOOPT_SEED0_wchhpgwm', '/home/vchad/results_aaai/scout_baselines_210h-10hp-400bs-1em4lr/fcscout_210h-10hp-400bs-1em4lr-eval_NOOPT_SEED1_jha9k0gi', '/home/vchad/results_aaai/scout_baselines_210h-10hp-400bs-1em4lr/fcscout_210h-10hp-400bs-1em4lr-eval_NOOPT_SEED2_hf1gqc2q', '/home/vchad/results_aaai/scout_baselines_210h-10hp-400bs-1em4lr/fcscout_210h-10hp-400bs-1em4lr-eval_NOOPT_SEED3_x8k_36gy', '/home/vchad/results_aaai/scout_baselines_210h-10hp-400bs-1em4lr/fcscout_210h-10hp-400bs-1em4lr-eval_NOOPT_SEED4_6yn2ydfl', '/home/vchad/results_aaai/scout_baselines_210h-10hp-400bs-1em4lr/fcscout_210h-10hp-400bs-1em4lr-eval_NOOPT_SEED5_9uv1r9pk', '/home/vchad/results_aaai/scout_baselines_210h-10hp-400bs-1em4lr/fcscout_210h-10hp-400bs-1em4lr-eval_NOOPT_SEED6_gkphq9kv', '/home/vchad/results_aaai/scout_baselines_210h-10hp-400bs-1em4lr/fcscout_210h-10hp-400bs-1em4lr-eval_NOOPT_SEED7_1tmkm0ua', '/home/vchad/results_aaai/scout_baselines_210h-10hp-400bs-1em4lr/fcscout_210h-10hp-400bs-1em4lr-eval_NOOPT_SEED8_xep4wx1x', '/home/vchad/results_aaai/scout_baselines_210h-10hp-400bs-1em4lr/fcscout_210h-10hp-400bs-1em4lr-eval_NOOPT_SEED9_ejqagf3d'], ['/home/vchad/results_aaai/scout_gcn_210h-10hp-400bs-1em4lr/gcnscout_210h-10hp-400bs-1em4lr-eval_NOOPT_global_SEED0_tagq0ula', '/home/vchad/results_aaai/scout_gcn_210h-10hp-400bs-1em4lr/gcnscout_210h-10hp-400bs-1em4lr-eval_NOOPT_global_SEED1_rprz2_yz', '/home/vchad/results_aaai/scout_gcn_210h-10hp-400bs-1em4lr/gcnscout_210h-10hp-400bs-1em4lr-eval_NOOPT_global_SEED2_d33q7dv8', '/home/vchad/results_aaai/scout_gcn_210h-10hp-400bs-1em4lr/gcnscout_210h-10hp-400bs-1em4lr-eval_NOOPT_global_SEED3_2ydmy9f4', '/home/vchad/results_aaai/scout_gcn_210h-10hp-400bs-1em4lr/gcnscout_210h-10hp-400bs-1em4lr-eval_NOOPT_global_SEED4_35ddw0ij', '/home/vchad/results_aaai/scout_gcn_210h-10hp-400bs-1em4lr/gcnscout_210h-10hp-400bs-1em4lr-eval_NOOPT_global_SEED5_lyeh8cdg', '/home/vchad/results_aaai/scout_gcn_210h-10hp-400bs-1em4lr/gcnscout_210h-10hp-400bs-1em4lr-eval_NOOPT_global_SEED6_qr1dbcfe', '/home/vchad/results_aaai/scout_gcn_210h-10hp-400bs-1em4lr/gcnscout_210h-10hp-400bs-1em4lr-eval_NOOPT_global_SEED7_qpqy2e6s', '/home/vchad/results_aaai/scout_gcn_210h-10hp-400bs-1em4lr/gcnscout_210h-10hp-400bs-1em4lr-eval_NOOPT_global_SEED8_eemb_h7m', '/home/vchad/results_aaai/scout_gcn_210h-10hp-400bs-1em4lr/gcnscout_210h-10hp-400bs-1em4lr-eval_NOOPT_global_SEED9_tp7ttc8r'], ['/home/vchad/ray_results/gatscout_210h-10hp-400bs-1em4lr-eval_NOOPT_global_SEED0_4cq14n8j', '/home/vchad/ray_results/gatscout_210h-10hp-400bs-1em4lr-eval_NOOPT_global_SEED1_l81crzz2', '/home/vchad/ray_results/gatscout_210h-10hp-400bs-1em4lr-eval_NOOPT_global_SEED2_2ldiv4h7', '/home/vchad/ray_results/gatscout_210h-10hp-400bs-1em4lr-eval_NOOPT_global_SEED3_380ox1ah', '/home/vchad/ray_results/gatscout_210h-10hp-400bs-1em4lr-eval_NOOPT_global_SEED4_moo2tr0n', '/home/vchad/ray_results/gatscout_210h-10hp-400bs-1em4lr-eval_NOOPT_global_SEED5_rhg9czuc', '/home/vchad/ray_results/gatscout_210h-10hp-400bs-1em4lr-eval_NOOPT_global_SEED6_ev3kbr0q', '/home/vchad/ray_results/gatscout_210h-10hp-400bs-1em4lr-eval_NOOPT_global_SEED7_htjhista', '/home/vchad/ray_results/gatscout_210h-10hp-400bs-1em4lr-eval_NOOPT_global_SEED8_p9vdvgw7', '/home/vchad/ray_results/gatscout_210h-10hp-400bs-1em4lr-eval_NOOPT_global_SEED9_4j2ndhpt'], ['/home/vchad/ray_results/gtscout_210h-10hp-400bs-1em4lr-eval_NOOPT_global_SEED0__cqgnrbg', '/home/vchad/ray_results/gtscout_210h-10hp-400bs-1em4lr-eval_NOOPT_global_SEED1_xs7y3n9o', '/home/vchad/ray_results/gtscout_210h-10hp-400bs-1em4lr-eval_NOOPT_global_SEED2_k0_lx4_u', '/home/vchad/ray_results/gtscout_210h-10hp-400bs-1em4lr-eval_NOOPT_global_SEED3_vqkx3xg5', '/home/vchad/ray_results/gtscout_210h-10hp-400bs-1em4lr-eval_NOOPT_global_SEED4_jjzu3vli', '/home/vchad/ray_results/gtscout_210h-10hp-400bs-1em4lr-eval_NOOPT_global_SEED5_8rkr7t72', '/home/vchad/ray_results/gtscout_210h-10hp-400bs-1em4lr-eval_NOOPT_global_SEED6_sn5cf44v', '/home/vchad/ray_results/gtscout_210h-10hp-400bs-1em4lr-eval_NOOPT_global_SEED7_kqzt59b4', '/home/vchad/ray_results/gtscout_210h-10hp-400bs-1em4lr-eval_NOOPT_global_SEED8_yokxtoim', '/home/vchad/ray_results/gtscout_210h-10hp-400bs-1em4lr-eval_NOOPT_global_SEED9_dtkor5mn']]\n"
     ]
    }
   ],
   "source": [
    "print(all_filters_runs)"
   ]
  },
  {
   "cell_type": "markdown",
   "metadata": {},
   "source": [
    "# Calculate p-values on a per-starting location basis"
   ]
  },
  {
   "cell_type": "code",
   "execution_count": 100,
   "metadata": {},
   "outputs": [
    {
     "name": "stdout",
     "output_type": "stream",
     "text": [
      "{'fcscout_210h-10hp-400bs-1em4lr-eval_NOOPT_': {0: {'str': '37.400001525878906+/-18.05674171447754 -- p=0.5'},\n",
      "                                                1: {'str': '97.80000305175781+/-155.14791870117188 -- p=0.5'},\n",
      "                                                2: {'str': '112.5999984741211+/-210.0727996826172 -- p=0.5'},\n",
      "                                                3: {'str': '66.5+/-109.34335327148438 -- p=0.5'},\n",
      "                                                4: {'str': '145.5+/-216.2189483642578 -- p=0.5'},\n",
      "                                                5: {'str': '67.19999694824219+/-144.94639587402344 -- p=0.5'},\n",
      "                                                6: {'str': '152.0+/-183.4631805419922 -- p=0.5'},\n",
      "                                                7: {'str': '78.9000015258789+/-156.7609100341797 -- p=0.5'},\n",
      "                                                8: {'str': '87.69999694824219+/-177.9999237060547 -- p=0.5'},\n",
      "                                                9: {'str': '53.599998474121094+/-83.63907623291016 -- p=0.5'},\n",
      "                                                10: {'str': '112.5999984741211+/-198.46665954589844 -- p=0.5'},\n",
      "                                                11: {'str': '97.5+/-177.88536071777344 -- p=0.5'},\n",
      "                                                12: {'str': '112.5999984741211+/-175.25953674316406 -- p=0.5'},\n",
      "                                                13: {'str': '122.0999984741211+/-207.05731201171875 -- p=0.5'},\n",
      "                                                14: {'str': '67.69999694824219+/-146.8040008544922 -- p=0.5'},\n",
      "                                                15: {'str': '151.1999969482422+/-202.34584045410156 -- p=0.5'},\n",
      "                                                16: {'str': '114.9000015258789+/-178.38868713378906 -- p=0.5'},\n",
      "                                                17: {'str': '64.4000015258789+/-139.00050354003906 -- p=0.5'}},\n",
      " 'gatscout_210h-10hp-400bs-1em4lr-eval_NOOPT_global': {0: {'str': '39.0+/-10.660818099975586 -- p=0.3485834921820471'},\n",
      "                                                       1: {'str': '66.9000015258789+/-130.50436401367188 -- p=0.7807550233929623'},\n",
      "                                                       2: {'str': '124.69999694824219+/-186.91500854492188 -- p=0.4127155551850404'},\n",
      "                                                       3: {'str': '126.30000305175781+/-202.93231201171875 -- p=0.09943815460766783'},\n",
      "                                                       4: {'str': '119.9000015258789+/-188.45355224609375 -- p=0.6759484439171057'},\n",
      "                                                       5: {'str': '47.599998474121094+/-82.53172302246094 -- p=0.7246874029793231'},\n",
      "                                                       6: {'str': '203.0+/-229.5690460205078 -- p=0.18957064724900102'},\n",
      "                                                       7: {'str': '153.8000030517578+/-209.5792694091797 -- p=0.07761888903513904'},\n",
      "                                                       8: {'str': '57.70000076293945+/-72.23050689697266 -- p=0.783731843863009'},\n",
      "                                                       9: {'str': '42.79999923706055+/-10.598589897155762 -- p=0.7393129379054761'},\n",
      "                                                       10: {'str': '75.30000305175781+/-114.0929946899414 -- p=0.7947143101990638'},\n",
      "                                                       11: {'str': '156.1999969482422+/-205.46160888671875 -- p=0.13812454951396572'},\n",
      "                                                       12: {'str': '53.400001525878906+/-97.9974594116211 -- p=0.9264004183601632'},\n",
      "                                                       13: {'str': '204.0+/-190.758544921875 -- p=0.07384224344008179'},\n",
      "                                                       14: {'str': '28.299999237060547+/-13.297508239746094 -- p=0.9013528685104217'},\n",
      "                                                       15: {'str': '137.60000610351562+/-206.1152801513672 -- p=0.5953607391388773'},\n",
      "                                                       16: {'str': '83.9000015258789+/-193.6019744873047 -- p=0.7260598633773552'},\n",
      "                                                       17: {'str': '39.900001525878906+/-11.115082740783691 -- p=0.8078640186221472'}},\n",
      " 'gcnscout_210h-10hp-400bs-1em4lr-eval_NOOPT_global': {0: {'str': '35.20000076293945+/-12.256199836730957 -- p=0.696370968518173'},\n",
      "                                                       1: {'str': '123.9000015258789+/-236.0833740234375 -- p=0.3187442370936318'},\n",
      "                                                       2: {'str': '219.6999969482422+/-279.4220275878906 -- p=0.06487025844462148'},\n",
      "                                                       3: {'str': '173.8000030517578+/-325.40411376953125 -- p=0.06610970105297093'},\n",
      "                                                       4: {'str': '281.6000061035156+/-271.15869140625 -- p=0.028452283652614103'},\n",
      "                                                       5: {'str': '152.10000610351562+/-349.751953125 -- p=0.13302735728043'},\n",
      "                                                       6: {'str': '215.1999969482422+/-272.3597717285156 -- p=0.16593510302849812'},\n",
      "                                                       7: {'str': '70.0+/-125.95683288574219 -- p=0.5896843046603444'},\n",
      "                                                       8: {'str': '96.19999694824219+/-227.63536071777344 -- p=0.4400930328254459'},\n",
      "                                                       9: {'str': '32.099998474121094+/-12.84669017791748 -- p=0.8912738641693416'},\n",
      "                                                       10: {'str': '168.5+/-296.77880859375 -- p=0.21377349220383363'},\n",
      "                                                       11: {'str': '166.6999969482422+/-287.1016540527344 -- p=0.1516672656020001'},\n",
      "                                                       12: {'str': '280.0+/-270.95989990234375 -- p=0.008107514803959725'},\n",
      "                                                       13: {'str': '149.3000030517578+/-270.45904541015625 -- p=0.3415449042058002'},\n",
      "                                                       14: {'str': '178.10000610351562+/-295.4427490234375 -- p=0.05249195332481658'},\n",
      "                                                       15: {'str': '158.0+/-225.2789306640625 -- p=0.4541569053848574'},\n",
      "                                                       16: {'str': '50.900001525878906+/-93.48866271972656 -- p=0.9393919299378275'},\n",
      "                                                       17: {'str': '37.5+/-13.920539855957031 -- p=0.8289193046677298'}},\n",
      " 'gtscout_210h-10hp-400bs-1em4lr-eval_NOOPT_global': {0: {'str': '36.29999923706055+/-10.995415687561035 -- p=0.604815032532714'},\n",
      "                                                      1: {'str': '112.9000015258789+/-173.60696411132812 -- p=0.3698956057636127'},\n",
      "                                                      2: {'str': '206.1999969482422+/-262.0686950683594 -- p=0.08257821462643757'},\n",
      "                                                      3: {'str': '133.6999969482422+/-262.8514099121094 -- p=0.1214874552225397'},\n",
      "                                                      4: {'str': '205.3000030517578+/-256.3621520996094 -- p=0.18312444560339014'},\n",
      "                                                      5: {'str': '66.69999694824219+/-194.8413543701172 -- p=0.5042090640532751'},\n",
      "                                                      6: {'str': '120.5+/-147.70281982421875 -- p=0.7520521456547342'},\n",
      "                                                      7: {'str': '75.9000015258789+/-140.88101196289062 -- p=0.5290994632414071'},\n",
      "                                                      8: {'str': '66.30000305175781+/-134.2533416748047 -- p=0.687968143887733'},\n",
      "                                                      9: {'str': '40.70000076293945+/-10.052611351013184 -- p=0.7771827761492331'},\n",
      "                                                      10: {'str': '58.099998474121094+/-89.54620361328125 -- p=0.8918316093427621'},\n",
      "                                                      11: {'str': '193.6999969482422+/-279.3660583496094 -- p=0.07560552185848003'},\n",
      "                                                      12: {'str': '118.0999984741211+/-218.98135375976562 -- p=0.4599665179433114'},\n",
      "                                                      13: {'str': '227.3000030517578+/-279.1474914550781 -- p=0.06711176020977146'},\n",
      "                                                      14: {'str': '103.5999984741211+/-257.1036682128906 -- p=0.2690675296701774'},\n",
      "                                                      15: {'str': '159.10000610351562+/-110.25577545166016 -- p=0.43051400865003014'},\n",
      "                                                      16: {'str': '51.599998474121094+/-98.06494140625 -- p=0.9359594181483943'},\n",
      "                                                      17: {'str': '59.20000076293945+/-114.01061248779297 -- p=0.558932869019793'}}}\n"
     ]
    }
   ],
   "source": [
    "# Check out runs on a per-start-point basis\n",
    "import json\n",
    "def get_best_eval_rewards(run):\n",
    "    # Fix json file because for some reason it's multiple documents in one\n",
    "    run_json_data_file = \"result.json\"\n",
    "    with open(os.path.join(run, run_json_data_file), \"r\") as file:\n",
    "        lines = file.readlines()\n",
    "    results = [json.loads(result) for result in lines]\n",
    "\n",
    "    # Get the highest eval rewards and return\n",
    "    results_ordered_by_eval = sorted([(x[\"evaluation\"][\"episode_reward_mean\"], x) for x in results], key=lambda x: x[0], reverse=True)\n",
    "    best_eval, best_result_by_eval = results_ordered_by_eval[0]\n",
    "    best_result_by_eval_rewards = best_result_by_eval[\"evaluation\"][\"hist_stats\"][\"episode_reward\"]\n",
    "    return best_result_by_eval_rewards\n",
    "\n",
    "# all_runs_data shape: (n_experiments_to_compare, n_runs_per_experiment, n_evals_per_run/starting_points)\n",
    "all_runs_data = []\n",
    "for filter_runs in all_filters_runs:\n",
    "    curr_run_data = []\n",
    "    for run in filter_runs:\n",
    "        run_best_eval_data = get_best_eval_rewards(run)\n",
    "        curr_run_data.append(run_best_eval_data)\n",
    "    all_runs_data.append(curr_run_data)\n",
    "\n",
    "# get stats for mapped values for a given experiment\n",
    "def get_stats_by_start(all_runs_by_start):\n",
    "    stats = {}\n",
    "    baselines = all_runs_by_start[0]\n",
    "    for exp_name, experiment in zip(runs_filters, all_runs_by_start):\n",
    "        stats[exp_name] = {}\n",
    "        for starting_pt_idx in range(len(experiment)):\n",
    "            ci95z = 1.96\n",
    "            ci90z = 1.645\n",
    "            alternative = \"less\" # \"two-sided\" #\n",
    "            baselines_idx = baselines[starting_pt_idx]\n",
    "            experiment_idx = experiment[starting_pt_idx]\n",
    "            ttest_results = ttest_ind(baselines_idx, experiment_idx, alternative=alternative, equal_var=False)\n",
    "            mu, sigma = torch.mean(experiment_idx), torch.std(experiment_idx)\n",
    "            stats[exp_name][starting_pt_idx] = {\n",
    "                \"str\": f\"{mu}+/-{ci90z*sigma} -- p={ttest_results.pvalue}\",\n",
    "            }\n",
    "    return stats\n",
    "\n",
    "import torch\n",
    "import pprint\n",
    "all_runs_by_starting_point = torch.Tensor(all_runs_data).permute(0, 2, 1) # (n_experiments, starting_point, n_runs)\n",
    "results_by_starting_pt = get_stats_by_start(all_runs_by_starting_point)\n",
    "printer = pprint.PrettyPrinter(width=160)\n",
    "printer.pprint(results_by_starting_pt)"
   ]
  },
  {
   "cell_type": "markdown",
   "metadata": {},
   "source": [
    "# Calculate p-values on a wholistic basis (v1)"
   ]
  },
  {
   "cell_type": "code",
   "execution_count": 101,
   "metadata": {},
   "outputs": [
    {
     "name": "stdout",
     "output_type": "stream",
     "text": [
      "{'fcscout_210h-10hp-400bs-1em4lr-eval_NOOPT_': {'str': '96.78888702392578+/-168.14315795898438 -- p=0.5'},\n",
      " 'gatscout_210h-10hp-400bs-1em4lr-eval_NOOPT_global': {'str': '97.79444122314453+/-171.38015747070312 -- p=0.4632023447484611'},\n",
      " 'gcnscout_210h-10hp-400bs-1em4lr-eval_NOOPT_global': {'str': '143.8222198486328+/-261.02679443359375 -- p=0.0004657014854765041'},\n",
      " 'gtscout_210h-10hp-400bs-1em4lr-eval_NOOPT_global': {'str': '113.06666564941406+/-205.84669494628906 -- p=0.08869114009409511'}}\n"
     ]
    }
   ],
   "source": [
    "# get stats for mapped values for a given experiment\n",
    "def get_stats_all(all_runs_by_start):\n",
    "    all_runs_data = all_runs_by_start.reshape(all_runs_by_start.shape[0], -1)\n",
    "    stats = {}\n",
    "    baselines = all_runs_data[0]\n",
    "    for exp_name, vals in zip(runs_filters, all_runs_data):\n",
    "        mu = torch.mean(vals)\n",
    "        sigma = torch.std(vals)\n",
    "        ci95z = 1.96\n",
    "        ci90z = 1.645\n",
    "        alternative = \"less\" # \"two-sided\"\n",
    "        ttest_results = ttest_ind(baselines.numpy(), vals.numpy(), alternative=alternative, equal_var=False)\n",
    "        stats[exp_name] = {\n",
    "            \"str\": f\"{mu}+/-{ci90z*sigma} -- p={ttest_results.pvalue}\"\n",
    "        }\n",
    "    return stats\n",
    "results_by_starting_pt = get_stats_all(all_runs_by_starting_point)\n",
    "printer = pprint.PrettyPrinter(width=160)\n",
    "printer.pprint(results_by_starting_pt)"
   ]
  },
  {
   "cell_type": "markdown",
   "metadata": {},
   "source": [
    "# Calculate p-values on a wholistic basis (v2)"
   ]
  },
  {
   "cell_type": "code",
   "execution_count": 102,
   "metadata": {},
   "outputs": [],
   "source": [
    "run_data_file = \"progress.csv\"\n",
    "#run_data_col = \"episode_reward_mean\"\n",
    "run_data_col = \"evaluation/episode_reward_mean\"\n",
    "# run_data_col = \"ray/tune/episode_reward_mean\"\n",
    "run_step_col = \"timesteps_total\"\n",
    "all_runs_data = []\n",
    "for filter_runs in all_filters_runs:\n",
    "    curr_run_data = []\n",
    "    for run in filter_runs:\n",
    "        #parse_exp_json(run) # TODO\n",
    "        datafile = pd.read_csv(ospj(run, run_data_file))\n",
    "        curr_run_data.append(datafile[run_data_col])\n",
    "    all_runs_data.append(curr_run_data)\n",
    "runs_steps = [\n",
    "    pd.read_csv(ospj(run, run_data_file))[run_step_col]\n",
    "    for run in runs\n",
    "]"
   ]
  },
  {
   "attachments": {},
   "cell_type": "markdown",
   "metadata": {},
   "source": [
    "### given data, run \"map\" on data to get values suitable for analysis"
   ]
  },
  {
   "cell_type": "code",
   "execution_count": 103,
   "metadata": {},
   "outputs": [],
   "source": [
    "# finds the first training step when reward exceeds a given value ge\n",
    "def first_ep_to_val(runs, steps, ge=30):\n",
    "    first_eps = []\n",
    "    for run, steps in zip(runs, steps):\n",
    "        found = False\n",
    "        for step, val in zip(steps, run):\n",
    "            if val >= ge:\n",
    "                first_eps.append(step)\n",
    "                found = True\n",
    "                break\n",
    "        if not found:\n",
    "            first_eps.append(-1)\n",
    "    return first_eps\n",
    "\n",
    "# finds max avg reward\n",
    "ZONE1_SPAWNS = [85, 87, 94, 95, 96, 102, 103, 111, 112]\n",
    "ZONE2_SPAWNS = [98, 99, 106, 106, 107, 108, 113, 114, 115]\n",
    "POSSIBLE_SPAWNS = ZONE1_SPAWNS + ZONE2_SPAWNS\n",
    "def max_avg_reward(runs, steps, N_EVAL_EPISODES = len(POSSIBLE_SPAWNS)):\n",
    "    max_vals = []\n",
    "    for run in runs:\n",
    "        if len(run) < tot_steps_len: continue\n",
    "        max_vals += [max(run)]*N_EVAL_EPISODES\n",
    "    return max_vals\n",
    "\n",
    "# returns last reward\n",
    "def last_ep_reward(runs, steps):\n",
    "    last_vals = []\n",
    "    for run in runs:\n",
    "        if len(run) < tot_steps_len: continue\n",
    "        last_vals.append(run.tolist()[-1])\n",
    "    return last_vals"
   ]
  },
  {
   "cell_type": "code",
   "execution_count": 104,
   "metadata": {},
   "outputs": [],
   "source": [
    "first_ep_to_30 = [\n",
    "    first_ep_to_val(filter_runs_data, runs_steps)\n",
    "    for filter_runs_data in all_runs_data\n",
    "]\n",
    "max_reward = [\n",
    "    max_avg_reward(filter_runs_data, runs_steps)\n",
    "    for filter_runs_data in all_runs_data\n",
    "]\n",
    "last_reward = [\n",
    "    last_ep_reward(filter_runs_data, runs_steps)\n",
    "    for filter_runs_data in all_runs_data\n",
    "]"
   ]
  },
  {
   "attachments": {},
   "cell_type": "markdown",
   "metadata": {},
   "source": [
    "### given \"map\" values, run \"reduce\" to aggregate values and show significance"
   ]
  },
  {
   "cell_type": "code",
   "execution_count": 105,
   "metadata": {},
   "outputs": [],
   "source": [
    "# pretty print a dictionary\n",
    "def pretty_print(d, tabs=0, tabsize=4):\n",
    "    for k in d:\n",
    "        v = d[k]\n",
    "        nspaces = \" \" * tabsize * tabs\n",
    "        if type(v) == dict:\n",
    "            print(f\"{nspaces}{k}:\")\n",
    "            pretty_print(v, tabs+1, tabsize)\n",
    "        else:\n",
    "            print(f\"{nspaces}{k}: {v}\")\n",
    "\n",
    "# get stats for mapped values for a given experiment\n",
    "def get_stats(all_runs_vals, firstn=-1):\n",
    "    stats = {}\n",
    "    #baselines = all_runs_vals[0]\n",
    "    baselines = all_runs_vals[0]\n",
    "    for filter, vals in zip(runs_filters, all_runs_vals):\n",
    "        if firstn > 0: vals = vals[:firstn]\n",
    "        mu = np.mean(vals)\n",
    "        sigma = np.std(vals)\n",
    "        ci95z = 1.96\n",
    "        ci90z = 1.645\n",
    "        alternative = \"less\" # \"two-sided\" #\n",
    "        ttest_results = ttest_ind(baselines, vals, alternative=alternative, equal_var=False)\n",
    "        stats[filter] = {\n",
    "            \"str\": f\"{mu}+/-{ci90z*sigma} -- p={ttest_results.pvalue}\",\n",
    "            #\"median\": np.median(vals),\n",
    "            #\"std\": sigma,\n",
    "            #\"ci\": [mu-ci95z*sigma, mu+ci95z*sigma],\n",
    "            #\"n\": len(vals),\n",
    "        }\n",
    "    return stats"
   ]
  },
  {
   "cell_type": "code",
   "execution_count": 106,
   "metadata": {},
   "outputs": [],
   "source": [
    "firstn = -1\n",
    "#first_ep_to_30_stats = get_stats(first_ep_to_30, firstn=firstn)\n",
    "max_reward_stats = get_stats(max_reward, firstn=firstn)\n",
    "last_reward_stats = get_stats(last_reward, firstn=firstn)"
   ]
  },
  {
   "cell_type": "code",
   "execution_count": 107,
   "metadata": {},
   "outputs": [
    {
     "name": "stdout",
     "output_type": "stream",
     "text": [
      "max reward stats:\n",
      "fcscout_210h-10hp-400bs-1em4lr-eval_NOOPT_:\n",
      "    str: 96.7888888888889+/-46.418283452758324 -- p=0.5\n",
      "gcnscout_210h-10hp-400bs-1em4lr-eval_NOOPT_global:\n",
      "    str: 143.82222222222222+/-84.05484597297246 -- p=3.502328414660579e-23\n",
      "gatscout_210h-10hp-400bs-1em4lr-eval_NOOPT_global:\n",
      "    str: 97.79444444444442+/-39.67336926235678 -- p=0.35862503572069665\n",
      "gtscout_210h-10hp-400bs-1em4lr-eval_NOOPT_global:\n",
      "    str: 113.06666666666666+/-73.79762047522641 -- p=2.560693420473987e-05\n",
      "\n",
      "last reward stats:\n",
      "fcscout_210h-10hp-400bs-1em4lr-eval_NOOPT_:\n",
      "    str: 71.59444444444445+/-34.71950489546124 -- p=0.5\n",
      "gcnscout_210h-10hp-400bs-1em4lr-eval_NOOPT_global:\n",
      "    str: 101.2+/-54.162088958730685 -- p=0.018983622981371146\n",
      "gatscout_210h-10hp-400bs-1em4lr-eval_NOOPT_global:\n",
      "    str: 69.60555555555555+/-25.61610993107212 -- p=0.5885838285793796\n",
      "gtscout_210h-10hp-400bs-1em4lr-eval_NOOPT_global:\n",
      "    str: 87.80555555555554+/-65.59199314776501 -- p=0.1498437653647084\n",
      "\n"
     ]
    }
   ],
   "source": [
    "def print_stat(stats, name=\"\"):\n",
    "    assert name != \"\"\n",
    "    print(name+\" stats:\")\n",
    "    pretty_print(stats)\n",
    "    print()\n",
    "\n",
    "print_stat(max_reward_stats, \"max reward\")\n",
    "#print_stat(first_ep_to_30_stats, \"first ep to 30\")\n",
    "print_stat(last_reward_stats, \"last reward\")\n"
   ]
  },
  {
   "cell_type": "code",
   "execution_count": null,
   "metadata": {},
   "outputs": [],
   "source": []
  }
 ],
 "metadata": {
  "kernelspec": {
   "display_name": "Python 3.9.13 ('ict')",
   "language": "python",
   "name": "python3"
  },
  "language_info": {
   "codemirror_mode": {
    "name": "ipython",
    "version": 3
   },
   "file_extension": ".py",
   "mimetype": "text/x-python",
   "name": "python",
   "nbconvert_exporter": "python",
   "pygments_lexer": "ipython3",
   "version": "3.9.13"
  },
  "orig_nbformat": 4,
  "vscode": {
   "interpreter": {
    "hash": "55c685f8cf5c890b69147c020cec2e2dc7dfd76edeb06885af029168509bee56"
   }
  }
 },
 "nbformat": 4,
 "nbformat_minor": 2
}
