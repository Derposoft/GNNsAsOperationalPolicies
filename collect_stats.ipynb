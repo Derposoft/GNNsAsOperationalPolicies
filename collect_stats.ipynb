{
 "cells": [
  {
   "cell_type": "code",
   "execution_count": 105,
   "metadata": {},
   "outputs": [],
   "source": [
    "import os\n",
    "import numpy as np\n",
    "import pandas as pd\n",
    "from scipy.stats import ttest_ind, mannwhitneyu\n",
    "\n",
    "osl = os.listdir\n",
    "ospj = os.path.join"
   ]
  },
  {
   "attachments": {},
   "cell_type": "markdown",
   "metadata": {},
   "source": [
    "### get relevant runs data given filters of interest"
   ]
  },
  {
   "cell_type": "code",
   "execution_count": 106,
   "metadata": {},
   "outputs": [],
   "source": [
    "import re\n",
    "\n",
    "def natural_sort(l):\n",
    "    convert = lambda text: int(text) if text.isdigit() else text.lower()\n",
    "    alphanum_key = lambda key: [convert(c) for c in re.split('([0-9]+)', key)]\n",
    "    return sorted(l, key=alphanum_key)"
   ]
  },
  {
   "cell_type": "code",
   "execution_count": 107,
   "metadata": {},
   "outputs": [
    {
     "name": "stdout",
     "output_type": "stream",
     "text": [
      "['fcscout_210h-10hp-400bs-1em4lr-eval_OPT-HG-HGR_', 'gcnscout_210h-10hp-400bs-1em4lr-eval_OPT-HG-HGR_global', 'gatscout_210h-10hp-400bs-1em4lr-eval_OPT-HG-HGR_global', 'gtscout_210h-10hp-400bs-1em4lr-eval_OPT-HG-HGR_global']\n"
     ]
    }
   ],
   "source": [
    "def augment_expstring(base_str, hg=False, hgr=False):\n",
    "    noopt_str = \"NOOPT\"\n",
    "    opt_str = \"OPT-\"\n",
    "    hg_str = \"HG\"\n",
    "    hgr_str = \"HGR\"\n",
    "    if not hg and not hgr:\n",
    "        return base_str + noopt_str\n",
    "    if hg and not hgr:\n",
    "        return base_str + opt_str + hg_str\n",
    "    if hgr and not hg:\n",
    "        return base_str + opt_str + hgr_str\n",
    "    if hg and hgr:\n",
    "        return base_str + opt_str + hg_str + \"-\" + hgr_str\n",
    "    raise Exception(\"\")\n",
    "\n",
    "def baseline_exp(exp_qualifier = \"210h_10hp\", hg=False, hgr=False):\n",
    "    base_fcscout_str = f\"fcscout_{exp_qualifier}_\"\n",
    "    return augment_expstring(base_fcscout_str, hg=hg, hgr=hgr) + \"_\"\n",
    "\n",
    "def gcn_exp(exp_qualifier = \"210h_10hp\", hg=False, hgr=False, is_global=False):\n",
    "    base = f\"gcnscout_{exp_qualifier}_\"\n",
    "    return augment_expstring(base, hg=hg, hgr=hgr) + (\"_global\" if is_global else \"_local\")\n",
    "\n",
    "def gat_exp(exp_qualifier = \"210h_10hp\", hg=False, hgr=False, is_global=False):\n",
    "    base = f\"gatscout_{exp_qualifier}_\"\n",
    "    return augment_expstring(base, hg=hg, hgr=hgr) + (\"_global\" if is_global else \"_local\")\n",
    "\n",
    "def gt_exp(exp_qualifier = \"210h_10hp\", hg=False, hgr=False, is_global=False):\n",
    "    base = f\"gtscout_{exp_qualifier}_\"\n",
    "    return augment_expstring(base, hg=hg, hgr=hgr) + (\"_global\" if is_global else \"_local\")\n",
    "\n",
    "def get_exps(exp_qualifier=\"210h_10hp\", baseline_exp_string=\"210h_10hp\", hg=False, hgr=False, is_global=False):\n",
    "    return [\n",
    "        baseline_exp(exp_qualifier=baseline_exp_string, hg=hg, hgr=hgr),\n",
    "        gcn_exp(exp_qualifier=exp_qualifier, hg=hg, hgr=hgr, is_global=is_global),\n",
    "        gat_exp(exp_qualifier=exp_qualifier, hg=hg, hgr=hgr, is_global=is_global),\n",
    "        gt_exp(exp_qualifier=exp_qualifier, hg=hg, hgr=hgr, is_global=is_global),\n",
    "    ]\n",
    "\n",
    "\n",
    "hg=False\n",
    "hgr=False\n",
    "runs_filters = get_exps(\n",
    "    exp_qualifier=\"210h-10hp-400bs-1em4lr-eval\",\n",
    "    baseline_exp_string=\"210h-10hp-400bs-1em4lr-eval\",\n",
    "    is_global=True,\n",
    "    hg=hg,\n",
    "    hgr=hgr,\n",
    ")\n",
    "# runs_filters = [\n",
    "#     baseline_exp(exp_qualifier=\"210h-10hp-400bs-1em4lr-eval\", hg=hg, hgr=hgr),\n",
    "#     gcn_exp(exp_qualifier=\"210h-10hp-400bs-1em4lr-eval\", is_global=True, hg=hg, hgr=hgr),\n",
    "#     gat_exp(exp_qualifier=\"210h-10hp-400bs-1em4lr-eval\", is_global=True, hg=hg, hgr=hgr),\n",
    "#     gt_exp(exp_qualifier=\"210h-10hp-400bs-1em4lr-eval\", is_global=True, hg=hg, hgr=hgr),\n",
    "# ]\n",
    "print(runs_filters)\n",
    "\n",
    "maindir = \"/home/vchad/ray_results/\"\n",
    "dir_baselines = \"/home/vchad/results_aaai/final/fcscout_210h-10hp-400bs-1em4lr/\"\n",
    "dir_gcn_global = \"/home/vchad/results_aaai/final/gcnscout_210h-10hp-400bs-1em4lr_GLOBAL/\"\n",
    "dir_gat_global = \"/home/vchad/results_aaai/final/gatscout_210h-10hp-400bs-1em4lr_GLOBAL/\"\n",
    "dir_gt_global = \"/home/vchad/results_aaai/final/gtscout_210h-10hp-400bs-1em4lr_GLOBAL/\"\n",
    "runs_dirs = [dir_baselines, dir_gcn_global, dir_gat_global, dir_gt_global]\n",
    "runs = sum(([ospj(runs_dir, x) for x in osl(runs_dir)] for runs_dir in runs_dirs), [])\n",
    "tot_steps_len = 75#150#75#200\n",
    "runs = natural_sort(runs)"
   ]
  },
  {
   "cell_type": "code",
   "execution_count": 108,
   "metadata": {},
   "outputs": [],
   "source": [
    "all_filters_runs = [\n",
    "    [run for run in runs if runs_filter in run]\n",
    "    for runs_filter in runs_filters\n",
    "]"
   ]
  },
  {
   "cell_type": "code",
   "execution_count": 109,
   "metadata": {},
   "outputs": [
    {
     "name": "stdout",
     "output_type": "stream",
     "text": [
      "[['/home/vchad/results_aaai/final/fcscout_210h-10hp-400bs-1em4lr/fcscout_210h-10hp-400bs-1em4lr-eval_OPT-HG-HGR_SEED0_i_qwzu6p', '/home/vchad/results_aaai/final/fcscout_210h-10hp-400bs-1em4lr/fcscout_210h-10hp-400bs-1em4lr-eval_OPT-HG-HGR_SEED1_ti9kxhev', '/home/vchad/results_aaai/final/fcscout_210h-10hp-400bs-1em4lr/fcscout_210h-10hp-400bs-1em4lr-eval_OPT-HG-HGR_SEED2_8msr6dm6', '/home/vchad/results_aaai/final/fcscout_210h-10hp-400bs-1em4lr/fcscout_210h-10hp-400bs-1em4lr-eval_OPT-HG-HGR_SEED3_tpzxacpl', '/home/vchad/results_aaai/final/fcscout_210h-10hp-400bs-1em4lr/fcscout_210h-10hp-400bs-1em4lr-eval_OPT-HG-HGR_SEED4_e2ufc4fg', '/home/vchad/results_aaai/final/fcscout_210h-10hp-400bs-1em4lr/fcscout_210h-10hp-400bs-1em4lr-eval_OPT-HG-HGR_SEED5__ionq26_', '/home/vchad/results_aaai/final/fcscout_210h-10hp-400bs-1em4lr/fcscout_210h-10hp-400bs-1em4lr-eval_OPT-HG-HGR_SEED6_s6se1g3q', '/home/vchad/results_aaai/final/fcscout_210h-10hp-400bs-1em4lr/fcscout_210h-10hp-400bs-1em4lr-eval_OPT-HG-HGR_SEED7_bws09xor', '/home/vchad/results_aaai/final/fcscout_210h-10hp-400bs-1em4lr/fcscout_210h-10hp-400bs-1em4lr-eval_OPT-HG-HGR_SEED8_czx5gwht', '/home/vchad/results_aaai/final/fcscout_210h-10hp-400bs-1em4lr/fcscout_210h-10hp-400bs-1em4lr-eval_OPT-HG-HGR_SEED9_krlofp7z'], ['/home/vchad/results_aaai/final/gcnscout_210h-10hp-400bs-1em4lr_GLOBAL/gcnscout_210h-10hp-400bs-1em4lr-eval_OPT-HG-HGR_global_SEED0_3ytzc8ba', '/home/vchad/results_aaai/final/gcnscout_210h-10hp-400bs-1em4lr_GLOBAL/gcnscout_210h-10hp-400bs-1em4lr-eval_OPT-HG-HGR_global_SEED1_spafpude', '/home/vchad/results_aaai/final/gcnscout_210h-10hp-400bs-1em4lr_GLOBAL/gcnscout_210h-10hp-400bs-1em4lr-eval_OPT-HG-HGR_global_SEED2_wlf7uvvi', '/home/vchad/results_aaai/final/gcnscout_210h-10hp-400bs-1em4lr_GLOBAL/gcnscout_210h-10hp-400bs-1em4lr-eval_OPT-HG-HGR_global_SEED3_ta495q5d', '/home/vchad/results_aaai/final/gcnscout_210h-10hp-400bs-1em4lr_GLOBAL/gcnscout_210h-10hp-400bs-1em4lr-eval_OPT-HG-HGR_global_SEED4_wzbwkgyv', '/home/vchad/results_aaai/final/gcnscout_210h-10hp-400bs-1em4lr_GLOBAL/gcnscout_210h-10hp-400bs-1em4lr-eval_OPT-HG-HGR_global_SEED5_elpi5m21', '/home/vchad/results_aaai/final/gcnscout_210h-10hp-400bs-1em4lr_GLOBAL/gcnscout_210h-10hp-400bs-1em4lr-eval_OPT-HG-HGR_global_SEED6_b5x034cj', '/home/vchad/results_aaai/final/gcnscout_210h-10hp-400bs-1em4lr_GLOBAL/gcnscout_210h-10hp-400bs-1em4lr-eval_OPT-HG-HGR_global_SEED7_8yi2xi9u', '/home/vchad/results_aaai/final/gcnscout_210h-10hp-400bs-1em4lr_GLOBAL/gcnscout_210h-10hp-400bs-1em4lr-eval_OPT-HG-HGR_global_SEED8_uth60u53', '/home/vchad/results_aaai/final/gcnscout_210h-10hp-400bs-1em4lr_GLOBAL/gcnscout_210h-10hp-400bs-1em4lr-eval_OPT-HG-HGR_global_SEED9_x5k8_4on'], ['/home/vchad/results_aaai/final/gatscout_210h-10hp-400bs-1em4lr_GLOBAL/gatscout_210h-10hp-400bs-1em4lr-eval_OPT-HG-HGR_global_SEED0_fbnshngw', '/home/vchad/results_aaai/final/gatscout_210h-10hp-400bs-1em4lr_GLOBAL/gatscout_210h-10hp-400bs-1em4lr-eval_OPT-HG-HGR_global_SEED1_lp660cml', '/home/vchad/results_aaai/final/gatscout_210h-10hp-400bs-1em4lr_GLOBAL/gatscout_210h-10hp-400bs-1em4lr-eval_OPT-HG-HGR_global_SEED2_qmy1ppnl', '/home/vchad/results_aaai/final/gatscout_210h-10hp-400bs-1em4lr_GLOBAL/gatscout_210h-10hp-400bs-1em4lr-eval_OPT-HG-HGR_global_SEED3_kbw8h0nz', '/home/vchad/results_aaai/final/gatscout_210h-10hp-400bs-1em4lr_GLOBAL/gatscout_210h-10hp-400bs-1em4lr-eval_OPT-HG-HGR_global_SEED4_ictf7342', '/home/vchad/results_aaai/final/gatscout_210h-10hp-400bs-1em4lr_GLOBAL/gatscout_210h-10hp-400bs-1em4lr-eval_OPT-HG-HGR_global_SEED5_4sp7p6zv', '/home/vchad/results_aaai/final/gatscout_210h-10hp-400bs-1em4lr_GLOBAL/gatscout_210h-10hp-400bs-1em4lr-eval_OPT-HG-HGR_global_SEED6_ua4fuso3', '/home/vchad/results_aaai/final/gatscout_210h-10hp-400bs-1em4lr_GLOBAL/gatscout_210h-10hp-400bs-1em4lr-eval_OPT-HG-HGR_global_SEED7_6klvrib7', '/home/vchad/results_aaai/final/gatscout_210h-10hp-400bs-1em4lr_GLOBAL/gatscout_210h-10hp-400bs-1em4lr-eval_OPT-HG-HGR_global_SEED8_bjhuh95y', '/home/vchad/results_aaai/final/gatscout_210h-10hp-400bs-1em4lr_GLOBAL/gatscout_210h-10hp-400bs-1em4lr-eval_OPT-HG-HGR_global_SEED9_dhhoixmn'], ['/home/vchad/results_aaai/final/gtscout_210h-10hp-400bs-1em4lr_GLOBAL/gtscout_210h-10hp-400bs-1em4lr-eval_OPT-HG-HGR_global_SEED0_tloalvf2', '/home/vchad/results_aaai/final/gtscout_210h-10hp-400bs-1em4lr_GLOBAL/gtscout_210h-10hp-400bs-1em4lr-eval_OPT-HG-HGR_global_SEED1_xfanrb4a', '/home/vchad/results_aaai/final/gtscout_210h-10hp-400bs-1em4lr_GLOBAL/gtscout_210h-10hp-400bs-1em4lr-eval_OPT-HG-HGR_global_SEED2_tjwkbww8', '/home/vchad/results_aaai/final/gtscout_210h-10hp-400bs-1em4lr_GLOBAL/gtscout_210h-10hp-400bs-1em4lr-eval_OPT-HG-HGR_global_SEED3_uq655o4z', '/home/vchad/results_aaai/final/gtscout_210h-10hp-400bs-1em4lr_GLOBAL/gtscout_210h-10hp-400bs-1em4lr-eval_OPT-HG-HGR_global_SEED4_h8xhn9_5', '/home/vchad/results_aaai/final/gtscout_210h-10hp-400bs-1em4lr_GLOBAL/gtscout_210h-10hp-400bs-1em4lr-eval_OPT-HG-HGR_global_SEED5_1aw7dmv_', '/home/vchad/results_aaai/final/gtscout_210h-10hp-400bs-1em4lr_GLOBAL/gtscout_210h-10hp-400bs-1em4lr-eval_OPT-HG-HGR_global_SEED6_xx6vjhm1', '/home/vchad/results_aaai/final/gtscout_210h-10hp-400bs-1em4lr_GLOBAL/gtscout_210h-10hp-400bs-1em4lr-eval_OPT-HG-HGR_global_SEED7_hafz4rp_', '/home/vchad/results_aaai/final/gtscout_210h-10hp-400bs-1em4lr_GLOBAL/gtscout_210h-10hp-400bs-1em4lr-eval_OPT-HG-HGR_global_SEED8_bvupzmnf', '/home/vchad/results_aaai/final/gtscout_210h-10hp-400bs-1em4lr_GLOBAL/gtscout_210h-10hp-400bs-1em4lr-eval_OPT-HG-HGR_global_SEED9_ivnzsddo']]\n"
     ]
    }
   ],
   "source": [
    "print(all_filters_runs)"
   ]
  },
  {
   "cell_type": "markdown",
   "metadata": {},
   "source": [
    "# Calculate p-values on a per-starting location basis"
   ]
  },
  {
   "cell_type": "code",
   "execution_count": 110,
   "metadata": {},
   "outputs": [
    {
     "name": "stdout",
     "output_type": "stream",
     "text": [
      "{'fcscout_210h-10hp-400bs-1em4lr-eval_OPT-HG-HGR_': {0: {'str': '36.5+/-13.459321022033691 -- p=0.5'},\n",
      "                                                     1: {'str': '79.9000015258789+/-137.41510009765625 -- p=0.5'},\n",
      "                                                     2: {'str': '165.3000030517578+/-184.99575805664062 -- p=0.5'},\n",
      "                                                     3: {'str': '76.30000305175781+/-155.49488830566406 -- p=0.5'},\n",
      "                                                     4: {'str': '78.80000305175781+/-151.7443389892578 -- p=0.5'},\n",
      "                                                     5: {'str': '46.20000076293945+/-89.14018249511719 -- p=0.5'},\n",
      "                                                     6: {'str': '113.30000305175781+/-160.1322021484375 -- p=0.5'},\n",
      "                                                     7: {'str': '67.5999984741211+/-123.12300109863281 -- p=0.5'},\n",
      "                                                     8: {'str': '38.79999923706055+/-13.24653434753418 -- p=0.5'},\n",
      "                                                     9: {'str': '40.099998474121094+/-13.215856552124023 -- p=0.5'},\n",
      "                                                     10: {'str': '56.900001525878906+/-89.05463409423828 -- p=0.5'},\n",
      "                                                     11: {'str': '120.30000305175781+/-177.0565643310547 -- p=0.5'},\n",
      "                                                     12: {'str': '75.19999694824219+/-155.95779418945312 -- p=0.5'},\n",
      "                                                     13: {'str': '130.60000610351562+/-179.9221954345703 -- p=0.5'},\n",
      "                                                     14: {'str': '25.200000762939453+/-14.952518463134766 -- p=0.5'},\n",
      "                                                     15: {'str': '114.5+/-177.7467041015625 -- p=0.5'},\n",
      "                                                     16: {'str': '93.5999984741211+/-155.80426025390625 -- p=0.5'},\n",
      "                                                     17: {'str': '63.599998474121094+/-133.82748413085938 -- p=0.5'}},\n",
      " 'gatscout_210h-10hp-400bs-1em4lr-eval_OPT-HG-HGR_global': {0: {'str': '42.099998474121094+/-6.955409049987793 -- p=0.03794025277985664'},\n",
      "                                                            1: {'str': '67.0+/-132.65586853027344 -- p=0.6352906636972251'},\n",
      "                                                            2: {'str': '149.89999389648438+/-199.80931091308594 -- p=0.6140039339471777'},\n",
      "                                                            3: {'str': '78.9000015258789+/-147.16075134277344 -- p=0.4751630207716173'},\n",
      "                                                            4: {'str': '130.3000030517578+/-166.57432556152344 -- p=0.12502439122481687'},\n",
      "                                                            5: {'str': '71.5999984741211+/-152.3166961669922 -- p=0.23300393940388442'},\n",
      "                                                            6: {'str': '138.39999389648438+/-205.6026153564453 -- p=0.31139357830865544'},\n",
      "                                                            7: {'str': '94.69999694824219+/-155.75958251953125 -- p=0.24363194358224716'},\n",
      "                                                            8: {'str': '104.30000305175781+/-233.82676696777344 -- p=0.08973657890074238'},\n",
      "                                                            9: {'str': '38.20000076293945+/-12.808014869689941 -- p=0.7010894135352752'},\n",
      "                                                            10: {'str': '58.400001525878906+/-94.63540649414062 -- p=0.476391421309327'},\n",
      "                                                            11: {'str': '144.8000030517578+/-183.8377685546875 -- p=0.31180070097247004'},\n",
      "                                                            12: {'str': '72.0+/-145.65243530273438 -- p=0.5306562808506065'},\n",
      "                                                            13: {'str': '115.80000305175781+/-171.12884521484375 -- p=0.6199547967005972'},\n",
      "                                                            14: {'str': '45.599998474121094+/-88.51193237304688 -- p=0.1329195442002594'},\n",
      "                                                            15: {'str': '168.6999969482422+/-130.69223022460938 -- p=0.10946043242160731'},\n",
      "                                                            16: {'str': '49.400001525878906+/-92.32929992675781 -- p=0.8879655484415996'},\n",
      "                                                            17: {'str': '104.5+/-229.5667266845703 -- p=0.21812989386298082'}},\n",
      " 'gcnscout_210h-10hp-400bs-1em4lr-eval_OPT-HG-HGR_global': {0: {'str': '43.599998474121094+/-10.524572372436523 -- p=0.022593479756303'},\n",
      "                                                            1: {'str': '106.30000305175781+/-186.64938354492188 -- p=0.2807601191443704'},\n",
      "                                                            2: {'str': '187.5+/-183.68307495117188 -- p=0.3315295819967161'},\n",
      "                                                            3: {'str': '75.9000015258789+/-152.26388549804688 -- p=0.5037616622208612'},\n",
      "                                                            4: {'str': '129.6999969482422+/-195.419189453125 -- p=0.14976784238142726'},\n",
      "                                                            5: {'str': '49.599998474121094+/-113.6445083618164 -- p=0.4519859327599143'},\n",
      "                                                            6: {'str': '185.5+/-242.22715759277344 -- p=0.10733864030855354'},\n",
      "                                                            7: {'str': '91.4000015258789+/-193.49905395507812 -- p=0.29855683626760354'},\n",
      "                                                            8: {'str': '68.5999984741211+/-147.62738037109375 -- p=0.16124050662927628'},\n",
      "                                                            9: {'str': '40.79999923706055+/-10.484500885009766 -- p=0.4158267299149305'},\n",
      "                                                            10: {'str': '114.80000305175781+/-197.52760314941406 -- p=0.09436999975303217'},\n",
      "                                                            11: {'str': '129.0+/-208.61758422851562 -- p=0.4352612663532819'},\n",
      "                                                            12: {'str': '61.20000076293945+/-127.79766845703125 -- p=0.6388387336266859'},\n",
      "                                                            13: {'str': '166.89999389648438+/-195.12416076660156 -- p=0.2429908019505153'},\n",
      "                                                            14: {'str': '78.5999984741211+/-171.96559143066406 -- p=0.07075721117006648'},\n",
      "                                                            15: {'str': '181.10000610351562+/-227.31105041503906 -- p=0.12317272368403316'},\n",
      "                                                            16: {'str': '67.5999984741211+/-133.76681518554688 -- p=0.7406721584273737'},\n",
      "                                                            17: {'str': '70.80000305175781+/-103.6010513305664 -- p=0.4137508603390665'}},\n",
      " 'gtscout_210h-10hp-400bs-1em4lr-eval_OPT-HG-HGR_global': {0: {'str': '56.099998474121094+/-71.90258026123047 -- p=0.09735272870488448'},\n",
      "                                                           1: {'str': '58.400001525878906+/-86.1675796508789 -- p=0.7495398307604122'},\n",
      "                                                           2: {'str': '111.0+/-194.52005004882812 -- p=0.8466768852697487'},\n",
      "                                                           3: {'str': '92.5999984741211+/-162.73992919921875 -- p=0.3554007912995014'},\n",
      "                                                           4: {'str': '68.4000015258789+/-122.15458679199219 -- p=0.6077317731517646'},\n",
      "                                                           5: {'str': '25.799999237060547+/-16.861583709716797 -- p=0.8648975605962321'},\n",
      "                                                           6: {'str': '148.5+/-146.42091369628906 -- p=0.2049478752397797'},\n",
      "                                                           7: {'str': '40.70000076293945+/-14.151886940002441 -- p=0.8563369429462153'},\n",
      "                                                           8: {'str': '40.400001525878906+/-16.4719181060791 -- p=0.34929701941152924'},\n",
      "                                                           9: {'str': '39.900001525878906+/-16.73000717163086 -- p=0.5191766862379537'},\n",
      "                                                           10: {'str': '57.0+/-83.0720443725586 -- p=0.4983195918873682'},\n",
      "                                                           11: {'str': '100.80000305175781+/-165.4001007080078 -- p=0.6597787894858758'},\n",
      "                                                           12: {'str': '51.29999923706055+/-99.17726135253906 -- p=0.7443954277792904'},\n",
      "                                                           13: {'str': '110.0+/-197.3329620361328 -- p=0.6535124056241381'},\n",
      "                                                           14: {'str': '27.600000381469727+/-16.544771194458008 -- p=0.29127902498214914'},\n",
      "                                                           15: {'str': '137.60000610351562+/-121.47334289550781 -- p=0.29225629185330126'},\n",
      "                                                           16: {'str': '62.20000076293945+/-124.15555572509766 -- p=0.7882355407013921'},\n",
      "                                                           17: {'str': '68.4000015258789+/-139.9038848876953 -- p=0.4494069188787585'}}}\n"
     ]
    }
   ],
   "source": [
    "# Check out runs on a per-start-point basis\n",
    "import json\n",
    "def get_best_eval_rewards(run):\n",
    "    # Fix json file because for some reason it's multiple documents in one\n",
    "    run_json_data_file = \"result.json\"\n",
    "    with open(os.path.join(run, run_json_data_file), \"r\") as file:\n",
    "        lines = file.readlines()\n",
    "    results = [json.loads(result) for result in lines]\n",
    "\n",
    "    # Get the highest eval rewards and return\n",
    "    results_ordered_by_eval = sorted([(x[\"evaluation\"][\"episode_reward_mean\"], x) for x in results], key=lambda x: x[0], reverse=True)\n",
    "    best_eval, best_result_by_eval = results_ordered_by_eval[0]\n",
    "    best_result_by_eval_rewards = best_result_by_eval[\"evaluation\"][\"hist_stats\"][\"episode_reward\"]\n",
    "    return best_result_by_eval_rewards\n",
    "\n",
    "# all_runs_data shape: (n_experiments_to_compare, n_runs_per_experiment, n_evals_per_run/starting_points)\n",
    "all_runs_data = []\n",
    "for filter_runs in all_filters_runs:\n",
    "    curr_run_data = []\n",
    "    for run in filter_runs:\n",
    "        run_best_eval_data = get_best_eval_rewards(run)\n",
    "        curr_run_data.append(run_best_eval_data)\n",
    "    all_runs_data.append(curr_run_data)\n",
    "\n",
    "# get stats for mapped values for a given experiment\n",
    "def get_stats_by_start(all_runs_by_start):\n",
    "    stats = {}\n",
    "    baselines = all_runs_by_start[0]\n",
    "    for exp_name, experiment in zip(runs_filters, all_runs_by_start):\n",
    "        stats[exp_name] = {}\n",
    "        for starting_pt_idx in range(len(experiment)):\n",
    "            ci95z = 1.96\n",
    "            ci90z = 1.645\n",
    "            alternative = \"less\" # \"two-sided\" #\n",
    "            baselines_idx = baselines[starting_pt_idx]\n",
    "            experiment_idx = experiment[starting_pt_idx]\n",
    "            ttest_results = ttest_ind(baselines_idx, experiment_idx, alternative=alternative, equal_var=False)\n",
    "            mu, sigma = torch.mean(experiment_idx), torch.std(experiment_idx)\n",
    "            stats[exp_name][starting_pt_idx] = {\n",
    "                \"str\": f\"{mu}+/-{ci90z*sigma} -- p={ttest_results.pvalue}\",\n",
    "            }\n",
    "    return stats\n",
    "\n",
    "import torch\n",
    "import pprint\n",
    "all_runs_by_starting_point = torch.Tensor(all_runs_data).permute(0, 2, 1) # (n_experiments, starting_point, n_runs)\n",
    "results_by_starting_pt = get_stats_by_start(all_runs_by_starting_point)\n",
    "printer = pprint.PrettyPrinter(width=160)\n",
    "printer.pprint(results_by_starting_pt)"
   ]
  },
  {
   "cell_type": "markdown",
   "metadata": {},
   "source": [
    "# Calculate p-values on a wholistic basis (v1)"
   ]
  },
  {
   "cell_type": "code",
   "execution_count": 111,
   "metadata": {},
   "outputs": [
    {
     "name": "stdout",
     "output_type": "stream",
     "text": [
      "{'fcscout_210h-10hp-400bs-1em4lr-eval_OPT-HG-HGR_': {'str': '79.03888702392578+/-140.47618103027344 -- p=0.5'},\n",
      " 'gatscout_210h-10hp-400bs-1em4lr-eval_OPT-HG-HGR_global': {'str': '93.03333282470703+/-161.2163543701172 -- p=0.07476015903609291'},\n",
      " 'gcnscout_210h-10hp-400bs-1em4lr-eval_OPT-HG-HGR_global': {'str': '102.71666717529297+/-178.80836486816406 -- p=0.011081612479153926'},\n",
      " 'gtscout_210h-10hp-400bs-1em4lr-eval_OPT-HG-HGR_global': {'str': '72.03888702392578+/-125.9736099243164 -- p=0.7932632333878769'}}\n"
     ]
    }
   ],
   "source": [
    "# get stats for mapped values for a given experiment\n",
    "def get_stats_all(all_runs_by_start):\n",
    "    all_runs_data = all_runs_by_start.reshape(all_runs_by_start.shape[0], -1)\n",
    "    stats = {}\n",
    "    baselines = all_runs_data[0]\n",
    "    for exp_name, vals in zip(runs_filters, all_runs_data):\n",
    "        mu = torch.mean(vals)\n",
    "        sigma = torch.std(vals)\n",
    "        ci95z = 1.96\n",
    "        ci90z = 1.645\n",
    "        alternative = \"less\" # \"two-sided\"\n",
    "        ttest_results = ttest_ind(baselines.numpy(), vals.numpy(), alternative=alternative, equal_var=False)\n",
    "        stats[exp_name] = {\n",
    "            \"str\": f\"{mu}+/-{ci90z*sigma} -- p={ttest_results.pvalue}\"\n",
    "        }\n",
    "    return stats\n",
    "results_by_starting_pt = get_stats_all(all_runs_by_starting_point)\n",
    "printer = pprint.PrettyPrinter(width=160)\n",
    "printer.pprint(results_by_starting_pt)"
   ]
  },
  {
   "cell_type": "markdown",
   "metadata": {},
   "source": [
    "# Calculate p-values on a wholistic basis (v2)"
   ]
  },
  {
   "cell_type": "code",
   "execution_count": 112,
   "metadata": {},
   "outputs": [],
   "source": [
    "run_data_file = \"progress.csv\"\n",
    "#run_data_col = \"episode_reward_mean\"\n",
    "run_data_col = \"evaluation/episode_reward_mean\"\n",
    "# run_data_col = \"ray/tune/episode_reward_mean\"\n",
    "run_step_col = \"timesteps_total\"\n",
    "all_runs_data = []\n",
    "for filter_runs in all_filters_runs:\n",
    "    curr_run_data = []\n",
    "    for run in filter_runs:\n",
    "        #parse_exp_json(run) # TODO\n",
    "        datafile = pd.read_csv(ospj(run, run_data_file))\n",
    "        curr_run_data.append(datafile[run_data_col])\n",
    "    all_runs_data.append(curr_run_data)\n",
    "runs_steps = [\n",
    "    pd.read_csv(ospj(run, run_data_file))[run_step_col]\n",
    "    for run in runs\n",
    "]"
   ]
  },
  {
   "attachments": {},
   "cell_type": "markdown",
   "metadata": {},
   "source": [
    "### given data, run \"map\" on data to get values suitable for analysis"
   ]
  },
  {
   "cell_type": "code",
   "execution_count": 113,
   "metadata": {},
   "outputs": [],
   "source": [
    "# finds the first training step when reward exceeds a given value ge\n",
    "def first_ep_to_val(runs, steps, ge=30):\n",
    "    first_eps = []\n",
    "    for run, steps in zip(runs, steps):\n",
    "        found = False\n",
    "        for step, val in zip(steps, run):\n",
    "            if val >= ge:\n",
    "                first_eps.append(step)\n",
    "                found = True\n",
    "                break\n",
    "        if not found:\n",
    "            first_eps.append(-1)\n",
    "    return first_eps\n",
    "\n",
    "# finds max avg reward\n",
    "ZONE1_SPAWNS = [85, 87, 94, 95, 96, 102, 103, 111, 112]\n",
    "ZONE2_SPAWNS = [98, 99, 106, 106, 107, 108, 113, 114, 115]\n",
    "POSSIBLE_SPAWNS = ZONE1_SPAWNS + ZONE2_SPAWNS\n",
    "def max_avg_reward(runs, steps, N_EVAL_EPISODES = len(POSSIBLE_SPAWNS)):\n",
    "    max_vals = []\n",
    "    for run in runs:\n",
    "        if len(run) < tot_steps_len: continue\n",
    "        max_vals += [max(run)]*N_EVAL_EPISODES\n",
    "    return max_vals\n",
    "\n",
    "# returns last reward\n",
    "def last_ep_reward(runs, steps):\n",
    "    last_vals = []\n",
    "    for run in runs:\n",
    "        if len(run) < tot_steps_len: continue\n",
    "        last_vals.append(run.tolist()[-1])\n",
    "    return last_vals"
   ]
  },
  {
   "cell_type": "code",
   "execution_count": 114,
   "metadata": {},
   "outputs": [],
   "source": [
    "first_ep_to_30 = [\n",
    "    first_ep_to_val(filter_runs_data, runs_steps)\n",
    "    for filter_runs_data in all_runs_data\n",
    "]\n",
    "max_reward = [\n",
    "    max_avg_reward(filter_runs_data, runs_steps)\n",
    "    for filter_runs_data in all_runs_data\n",
    "]\n",
    "last_reward = [\n",
    "    last_ep_reward(filter_runs_data, runs_steps)\n",
    "    for filter_runs_data in all_runs_data\n",
    "]"
   ]
  },
  {
   "attachments": {},
   "cell_type": "markdown",
   "metadata": {},
   "source": [
    "### given \"map\" values, run \"reduce\" to aggregate values and show significance"
   ]
  },
  {
   "cell_type": "code",
   "execution_count": 115,
   "metadata": {},
   "outputs": [],
   "source": [
    "# pretty print a dictionary\n",
    "def pretty_print(d, tabs=0, tabsize=4):\n",
    "    for k in d:\n",
    "        v = d[k]\n",
    "        nspaces = \" \" * tabsize * tabs\n",
    "        if type(v) == dict:\n",
    "            print(f\"{nspaces}{k}:\")\n",
    "            pretty_print(v, tabs+1, tabsize)\n",
    "        else:\n",
    "            print(f\"{nspaces}{k}: {v}\")\n",
    "\n",
    "# get stats for mapped values for a given experiment\n",
    "def get_stats(all_runs_vals, firstn=-1):\n",
    "    stats = {}\n",
    "    #baselines = all_runs_vals[0]\n",
    "    baselines = all_runs_vals[0]\n",
    "    for filter, vals in zip(runs_filters, all_runs_vals):\n",
    "        if firstn > 0: vals = vals[:firstn]\n",
    "        mu = np.mean(vals)\n",
    "        sigma = np.std(vals)\n",
    "        ci95z = 1.96\n",
    "        ci90z = 1.645\n",
    "        alternative = \"less\" # \"two-sided\" #\n",
    "        ttest_results = ttest_ind(baselines, vals, alternative=alternative, equal_var=False)\n",
    "        stats[filter] = {\n",
    "            \"str\": f\"{mu}+/-{ci90z*sigma} -- p={ttest_results.pvalue}\",\n",
    "            #\"median\": np.median(vals),\n",
    "            #\"std\": sigma,\n",
    "            #\"ci\": [mu-ci95z*sigma, mu+ci95z*sigma],\n",
    "            #\"n\": len(vals),\n",
    "        }\n",
    "    return stats"
   ]
  },
  {
   "cell_type": "code",
   "execution_count": 116,
   "metadata": {},
   "outputs": [],
   "source": [
    "firstn = -1\n",
    "#first_ep_to_30_stats = get_stats(first_ep_to_30, firstn=firstn)\n",
    "max_reward_stats = get_stats(max_reward, firstn=firstn)\n",
    "last_reward_stats = get_stats(last_reward, firstn=firstn)"
   ]
  },
  {
   "cell_type": "code",
   "execution_count": 117,
   "metadata": {},
   "outputs": [
    {
     "name": "stdout",
     "output_type": "stream",
     "text": [
      "max reward stats:\n",
      "fcscout_210h-10hp-400bs-1em4lr-eval_OPT-HG-HGR_:\n",
      "    str: 79.03888888888889+/-30.651240689460533 -- p=0.5\n",
      "gcnscout_210h-10hp-400bs-1em4lr-eval_OPT-HG-HGR_global:\n",
      "    str: 102.71666666666671+/-45.89233803933747 -- p=4.404060295777202e-19\n",
      "gatscout_210h-10hp-400bs-1em4lr-eval_OPT-HG-HGR_global:\n",
      "    str: 93.03333333333333+/-37.13914914626669 -- p=2.5893543722075244e-10\n",
      "gtscout_210h-10hp-400bs-1em4lr-eval_OPT-HG-HGR_global:\n",
      "    str: 72.03888888888889+/-36.48278440403284 -- p=0.9993292889677982\n",
      "\n",
      "last reward stats:\n",
      "fcscout_210h-10hp-400bs-1em4lr-eval_OPT-HG-HGR_:\n",
      "    str: 65.53333333333333+/-25.754913072947105 -- p=0.5\n",
      "gcnscout_210h-10hp-400bs-1em4lr-eval_OPT-HG-HGR_global:\n",
      "    str: 72.80555555555556+/-29.85095336206581 -- p=0.18748002270414538\n",
      "gatscout_210h-10hp-400bs-1em4lr-eval_OPT-HG-HGR_global:\n",
      "    str: 69.77777777777777+/-34.00560784453858 -- p=0.3148845992454797\n",
      "gtscout_210h-10hp-400bs-1em4lr-eval_OPT-HG-HGR_global:\n",
      "    str: 57.222222222222214+/-28.139320067717644 -- p=0.8517047348924848\n",
      "\n"
     ]
    }
   ],
   "source": [
    "def print_stat(stats, name=\"\"):\n",
    "    assert name != \"\"\n",
    "    print(name+\" stats:\")\n",
    "    pretty_print(stats)\n",
    "    print()\n",
    "\n",
    "print_stat(max_reward_stats, \"max reward\")\n",
    "#print_stat(first_ep_to_30_stats, \"first ep to 30\")\n",
    "print_stat(last_reward_stats, \"last reward\")\n"
   ]
  },
  {
   "cell_type": "code",
   "execution_count": null,
   "metadata": {},
   "outputs": [],
   "source": []
  }
 ],
 "metadata": {
  "kernelspec": {
   "display_name": "Python 3.9.13 ('ict')",
   "language": "python",
   "name": "python3"
  },
  "language_info": {
   "codemirror_mode": {
    "name": "ipython",
    "version": 3
   },
   "file_extension": ".py",
   "mimetype": "text/x-python",
   "name": "python",
   "nbconvert_exporter": "python",
   "pygments_lexer": "ipython3",
   "version": "3.9.13"
  },
  "orig_nbformat": 4,
  "vscode": {
   "interpreter": {
    "hash": "55c685f8cf5c890b69147c020cec2e2dc7dfd76edeb06885af029168509bee56"
   }
  }
 },
 "nbformat": 4,
 "nbformat_minor": 2
}
